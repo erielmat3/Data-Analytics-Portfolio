{
 "cells": [
  {
   "cell_type": "markdown",
   "id": "adac0abd",
   "metadata": {},
   "source": [
    "# Setup"
   ]
  },
  {
   "cell_type": "code",
   "execution_count": null,
   "id": "75e15a3a",
   "metadata": {},
   "outputs": [],
   "source": [
    "import pandas as pd \n",
    "import matplotlib.pyplot as plt\n",
    "import seaborn as sns"
   ]
  },
  {
   "cell_type": "code",
   "execution_count": null,
   "id": "ffb23c06",
   "metadata": {},
   "outputs": [],
   "source": [
    "# Setting default figure size\n",
    "plt.rcParams['figure.figsize'] = (2,2)"
   ]
  },
  {
   "cell_type": "code",
   "execution_count": null,
   "id": "c230cbf0",
   "metadata": {},
   "outputs": [],
   "source": [
    "# Setting default seaborn visualization style\n",
    "sns.set_theme(style='darkgrid')"
   ]
  },
  {
   "cell_type": "markdown",
   "id": "2f346798",
   "metadata": {},
   "source": [
    "# Data Reading"
   ]
  },
  {
   "cell_type": "markdown",
   "id": "7ab61e2b",
   "metadata": {},
   "source": [
    "Dataset is downloaded from UC Irvine Machine Learning Repository.\n",
    "URL: https://archive.ics.uci.edu/dataset/109/wine"
   ]
  },
  {
   "cell_type": "code",
   "execution_count": null,
   "id": "3f2dfc2b",
   "metadata": {},
   "outputs": [],
   "source": [
    "col_names = ['Wine Type', 'Alcohol', 'Malic Acid', 'Ash', 'Alkalinity of Ash', 'Magnesium', 'Total Phenols', 'Flavonoids',\n",
    "             'Nonflavonoid Phenols', 'Proanthocyanins', 'Color Intensity', 'Hue', 'OD280/OD315', 'Proline']\n",
    "df = pd.read_csv('wine.data', names=col_names)\n",
    "df"
   ]
  },
  {
   "cell_type": "code",
   "execution_count": null,
   "id": "be916ce4",
   "metadata": {
    "scrolled": true
   },
   "outputs": [],
   "source": [
    "df.head(10)"
   ]
  },
  {
   "cell_type": "markdown",
   "id": "7c4626da",
   "metadata": {},
   "source": [
    "# Dataset Splitting"
   ]
  },
  {
   "cell_type": "markdown",
   "id": "dbc5b4aa",
   "metadata": {},
   "source": [
    "Dataset splitting is done in the beginning to prevent data leakage when processing the data."
   ]
  },
  {
   "cell_type": "code",
   "execution_count": null,
   "id": "2f4bc7d9",
   "metadata": {},
   "outputs": [],
   "source": [
    "from sklearn.model_selection import train_test_split"
   ]
  },
  {
   "cell_type": "code",
   "execution_count": null,
   "id": "3aae2dba",
   "metadata": {},
   "outputs": [],
   "source": [
    "x = df.drop('Wine Type', axis=1)\n",
    "y = df['Wine Type']"
   ]
  },
  {
   "cell_type": "code",
   "execution_count": null,
   "id": "c49843ad",
   "metadata": {},
   "outputs": [],
   "source": [
    "x"
   ]
  },
  {
   "cell_type": "markdown",
   "id": "72152ed4",
   "metadata": {},
   "source": [
    "75% of the dataset is used and processed for model training. The remaining 25% is used for testing the model."
   ]
  },
  {
   "cell_type": "code",
   "execution_count": null,
   "id": "59fe7a3d",
   "metadata": {},
   "outputs": [],
   "source": [
    "# Splitting dataset using sklearn function, train_test_split\n",
    "x_train, x_test, y_train, y_test = train_test_split(x, y, test_size=0.25, random_state=0)"
   ]
  },
  {
   "cell_type": "code",
   "execution_count": null,
   "id": "0ba826b3",
   "metadata": {
    "scrolled": false
   },
   "outputs": [],
   "source": [
    "x_train"
   ]
  },
  {
   "cell_type": "code",
   "execution_count": null,
   "id": "e334f73b",
   "metadata": {
    "scrolled": true
   },
   "outputs": [],
   "source": [
    "y_train"
   ]
  },
  {
   "cell_type": "markdown",
   "id": "200479f7",
   "metadata": {},
   "source": [
    "# Exploratory Data Analysis"
   ]
  },
  {
   "cell_type": "code",
   "execution_count": null,
   "id": "ab3a332a",
   "metadata": {},
   "outputs": [],
   "source": [
    "# Checking the datatype and number of non-null value for each feature\n",
    "x_train.info()"
   ]
  },
  {
   "cell_type": "code",
   "execution_count": null,
   "id": "140016e2",
   "metadata": {},
   "outputs": [],
   "source": [
    "# Checking the count of each class in the target variable\n",
    "y_train.value_counts()"
   ]
  },
  {
   "cell_type": "code",
   "execution_count": null,
   "id": "16f67c93",
   "metadata": {},
   "outputs": [],
   "source": [
    "# Checking the number of rows and columns in the dataset\n",
    "x_train.shape"
   ]
  },
  {
   "cell_type": "code",
   "execution_count": null,
   "id": "b85b9e3a",
   "metadata": {},
   "outputs": [],
   "source": [
    "# Descriptive statistic of the data\n",
    "x_train.describe().T"
   ]
  },
  {
   "cell_type": "code",
   "execution_count": null,
   "id": "8ce37b43",
   "metadata": {},
   "outputs": [],
   "source": [
    "# Checking if there are any duplicate value\n",
    "x_train.duplicated().sum()"
   ]
  },
  {
   "cell_type": "code",
   "execution_count": null,
   "id": "95a35e11",
   "metadata": {},
   "outputs": [],
   "source": [
    "# Checking if there are any null value\n",
    "x_train.isna().sum()"
   ]
  },
  {
   "cell_type": "markdown",
   "id": "c25a61d1",
   "metadata": {},
   "source": [
    " "
   ]
  },
  {
   "cell_type": "markdown",
   "id": "a3ad9421",
   "metadata": {},
   "source": [
    "In this step we see the distribution of each feature."
   ]
  },
  {
   "cell_type": "code",
   "execution_count": null,
   "id": "179b5b18",
   "metadata": {},
   "outputs": [],
   "source": [
    "x_cols = x_train.columns"
   ]
  },
  {
   "cell_type": "code",
   "execution_count": null,
   "id": "2facaad0",
   "metadata": {},
   "outputs": [],
   "source": [
    "plt.figure(figsize=(10,12))\n",
    "for idx in range(0, len(x_cols)):\n",
    "    plt.subplot(5,3,idx+1)\n",
    "    plt.title(f'Distribution of {x_cols[idx]}')\n",
    "    sns.histplot(x_train, x=x_train[x_cols[idx]], kde=True, color='#004b66')\n",
    "    plt.tight_layout()\n",
    "    idx = idx + 1"
   ]
  },
  {
   "cell_type": "markdown",
   "id": "93a58a71",
   "metadata": {},
   "source": [
    " "
   ]
  },
  {
   "cell_type": "markdown",
   "id": "d0f319c0",
   "metadata": {},
   "source": [
    "After seeing the distribution of each feature, we check the relationship of each feature to the target variable."
   ]
  },
  {
   "cell_type": "code",
   "execution_count": null,
   "id": "a6d518e6",
   "metadata": {},
   "outputs": [],
   "source": [
    "train_data = pd.concat([x_train, y_train], axis=1, ignore_index=True)\n",
    "train_data.columns = ['Alcohol', 'Malic Acid', 'Ash', 'Alkalinity of Ash', 'Magnesium', 'Total Phenols', 'Flavonoids',\n",
    "                      'Nonflavonoid Phenols', 'Proanthocyanins', 'Color Intensity', 'Hue', 'OD280/OD315', 'Proline', 'Wine Type']\n",
    "train_data"
   ]
  },
  {
   "cell_type": "code",
   "execution_count": null,
   "id": "ecad7727",
   "metadata": {},
   "outputs": [],
   "source": [
    "train_data = pd.concat([x_train, y_train], axis=1, ignore_index=True)\n",
    "train_data.columns = ['Alcohol', 'Malic Acid', 'Ash', 'Alkalinity of Ash', 'Magnesium', 'Total Phenols', 'Flavonoids',\n",
    "                      'Nonflavonoid Phenols', 'Proanthocyanins', 'Color Intensity', 'Hue', 'OD280/OD315', 'Proline', 'Wine Type']\n",
    "train_data\n",
    "plt.figure(figsize=(10,10))\n",
    "for i in range(0, len(x_cols)):\n",
    "    plt.subplot(4,4,i+1)\n",
    "    sns.scatterplot(data=train_data, x=train_data['Wine Type'], y=train_data.columns[i], color='#6600cc')\n",
    "    plt.tight_layout()\n",
    "    i = i + 1"
   ]
  },
  {
   "cell_type": "markdown",
   "id": "b513e6d6",
   "metadata": {},
   "source": [
    " "
   ]
  },
  {
   "cell_type": "markdown",
   "id": "f78a0021",
   "metadata": {},
   "source": [
    "After checking the relationship, we identify outliers using boxplot visualization."
   ]
  },
  {
   "cell_type": "code",
   "execution_count": null,
   "id": "f086f3bb",
   "metadata": {},
   "outputs": [],
   "source": [
    "plt.figure(figsize=(10,10))\n",
    "for i in range(0, len(col_names)):\n",
    "    plt.subplot(4,4,i+1)\n",
    "    plt.title(f'Boxplot for {col_names[i]}')\n",
    "    sns.boxplot(train_data[col_names[i]], color='#00ff99')\n",
    "    plt.tight_layout()\n",
    "    i = i + 1"
   ]
  },
  {
   "cell_type": "markdown",
   "id": "a1a8037d",
   "metadata": {},
   "source": [
    "Some outliers detected in the following features:\n",
    "Ash, Alkalinity of Ash, Magnesium, Proanthocyanins, Color Intensity, Hue"
   ]
  },
  {
   "cell_type": "markdown",
   "id": "01696f2d",
   "metadata": {},
   "source": [
    "# Data Preprocessing"
   ]
  },
  {
   "cell_type": "markdown",
   "id": "ea680dfd",
   "metadata": {},
   "source": [
    "### Outlier Removal"
   ]
  },
  {
   "cell_type": "markdown",
   "id": "3be83e1c",
   "metadata": {},
   "source": [
    "In this problem, we remove the outliers using the IQR (Interquartile Range) method because some of the features are not normally distributed."
   ]
  },
  {
   "cell_type": "code",
   "execution_count": null,
   "id": "f9e51ec5",
   "metadata": {},
   "outputs": [],
   "source": [
    "Q1 = train_data.quantile(0.25)\n",
    "Q3 = train_data.quantile(0.75)\n",
    "IQR = Q3 - Q1\n",
    "train_data_1 = train_data[~((train_data < (Q1 - 1.5 * IQR)) | (train_data > (Q3 + 1.5 * IQR))).any(axis=1)]\n",
    "train_data_1"
   ]
  },
  {
   "cell_type": "code",
   "execution_count": null,
   "id": "4dc794db",
   "metadata": {},
   "outputs": [],
   "source": [
    "# Boxplot AFTER outlier removal #1\n",
    "plt.figure(figsize=(10,10))\n",
    "for i in range(0, len(col_names)):\n",
    "    plt.subplot(4,4,i+1)\n",
    "    plt.title(f'Boxplot for {col_names[i]}')\n",
    "    sns.boxplot(train_data_1[col_names[i]], color='#00ff99')\n",
    "    plt.tight_layout()\n",
    "    i = i + 1"
   ]
  },
  {
   "cell_type": "markdown",
   "id": "e693e82a",
   "metadata": {},
   "source": [
    "There are still some data points outside the whiskers of some boxplot, so I decided to re-iterate this method to ensure there are no outliers."
   ]
  },
  {
   "cell_type": "markdown",
   "id": "2cc61591",
   "metadata": {},
   "source": [
    " "
   ]
  },
  {
   "cell_type": "code",
   "execution_count": null,
   "id": "5d78f8b7",
   "metadata": {},
   "outputs": [],
   "source": [
    "Q1_1 = train_data_1.quantile(0.25)\n",
    "Q3_1 = train_data_1.quantile(0.75)\n",
    "IQR_1 = Q3_1 - Q1_1\n",
    "train_data_2 = train_data_1[~((train_data_1 < (Q1_1 - 1.5 * IQR_1)) | (train_data_1 > (Q3_1 + 1.5 * IQR_1))).any(axis=1)]\n",
    "train_data_2"
   ]
  },
  {
   "cell_type": "code",
   "execution_count": null,
   "id": "07ff5de8",
   "metadata": {},
   "outputs": [],
   "source": [
    "# Boxplot AFTER outlier removal #2\n",
    "plt.figure(figsize=(10,10))\n",
    "for i in range(0, len(col_names)):\n",
    "    plt.subplot(4,4,i+1)\n",
    "    plt.title(f'Boxplot for {col_names[i]}')\n",
    "    sns.boxplot(train_data_2[col_names[i]], color='#00ff99')\n",
    "    plt.tight_layout()\n",
    "    i = i + 1"
   ]
  },
  {
   "cell_type": "markdown",
   "id": "29fd794e",
   "metadata": {},
   "source": [
    "There are no more data points outside the whiskers of the boxplot so we can conclude that all the outliers were removed successfully."
   ]
  },
  {
   "cell_type": "markdown",
   "id": "eacd871e",
   "metadata": {},
   "source": [
    "Here we split the cleaned training data again into the variable x_train and y_train"
   ]
  },
  {
   "cell_type": "code",
   "execution_count": null,
   "id": "75729daf",
   "metadata": {},
   "outputs": [],
   "source": [
    "x_train = train_data_2.drop('Wine Type', axis=1)\n",
    "y_train = train_data_2['Wine Type']"
   ]
  },
  {
   "cell_type": "markdown",
   "id": "f26bbae5",
   "metadata": {},
   "source": [
    " "
   ]
  },
  {
   "cell_type": "markdown",
   "id": "e4b1dc11",
   "metadata": {},
   "source": [
    "### Data Scaling"
   ]
  },
  {
   "cell_type": "markdown",
   "id": "bb29563a",
   "metadata": {},
   "source": [
    "Data scaling is necessary to ensure all of the values are in the same scale and modelling can be done optimally."
   ]
  },
  {
   "cell_type": "markdown",
   "id": "58a788c7",
   "metadata": {},
   "source": [
    "Here we use the MinMax scaling method to scale the data."
   ]
  },
  {
   "cell_type": "code",
   "execution_count": null,
   "id": "126f8052",
   "metadata": {},
   "outputs": [],
   "source": [
    "from sklearn.preprocessing import MinMaxScaler"
   ]
  },
  {
   "cell_type": "code",
   "execution_count": null,
   "id": "7df570d0",
   "metadata": {},
   "outputs": [],
   "source": [
    "scaler = MinMaxScaler()\n",
    "scaler.fit(x_train)"
   ]
  },
  {
   "cell_type": "markdown",
   "id": "2a69485e",
   "metadata": {},
   "source": [
    "We fit the scaler only to the training data so there are no data leakage."
   ]
  },
  {
   "cell_type": "code",
   "execution_count": null,
   "id": "fc7d4a71",
   "metadata": {},
   "outputs": [],
   "source": [
    "x_train_scaled = scaler.transform(x_train)\n",
    "x_train_scaled = pd.DataFrame(x_train_scaled, columns=x_cols)\n",
    "x_train_scaled"
   ]
  },
  {
   "cell_type": "markdown",
   "id": "02b68986",
   "metadata": {},
   "source": [
    " "
   ]
  },
  {
   "cell_type": "markdown",
   "id": "5fe51e53",
   "metadata": {},
   "source": [
    "# Model Training\n",
    "(Hyperparameter Tuning is done simultaneously)"
   ]
  },
  {
   "cell_type": "markdown",
   "id": "76297a70",
   "metadata": {},
   "source": [
    "### K-Nearest Neighbors (KNN)"
   ]
  },
  {
   "cell_type": "markdown",
   "id": "b6039fee",
   "metadata": {},
   "source": [
    "We use the K-Nearest Neighbors algorithm because this is a multiclass classification problem and the dataset is small."
   ]
  },
  {
   "cell_type": "code",
   "execution_count": null,
   "id": "157612f6",
   "metadata": {},
   "outputs": [],
   "source": [
    "from sklearn.model_selection import GridSearchCV\n",
    "from sklearn.neighbors import KNeighborsClassifier\n",
    "from sklearn.metrics import accuracy_score, classification_report, confusion_matrix"
   ]
  },
  {
   "cell_type": "code",
   "execution_count": null,
   "id": "c9eaee2a",
   "metadata": {},
   "outputs": [],
   "source": [
    "knn = KNeighborsClassifier()\n",
    "\n",
    "# We store the hyperparameters we want to tune in the dictionary 'param_grid'\n",
    "param_grid = {\n",
    "    'n_neighbors' : range(1,10),\n",
    "    'weights' : ['uniform', 'distance'],\n",
    "    'p' : [1, 2]\n",
    "}"
   ]
  },
  {
   "cell_type": "markdown",
   "id": "b9e38e11",
   "metadata": {},
   "source": [
    " "
   ]
  },
  {
   "cell_type": "markdown",
   "id": "97fd45b7",
   "metadata": {},
   "source": [
    "Hyperparameter tuning is done using Grid Search and Cross Validation"
   ]
  },
  {
   "cell_type": "code",
   "execution_count": null,
   "id": "46f07f89",
   "metadata": {},
   "outputs": [],
   "source": [
    "grid_search = GridSearchCV(knn, param_grid, cv=3)\n",
    "grid_search.fit(x_train_scaled, y_train)"
   ]
  },
  {
   "cell_type": "code",
   "execution_count": null,
   "id": "1e8a44bc",
   "metadata": {},
   "outputs": [],
   "source": [
    "best_knn = grid_search.best_estimator_"
   ]
  },
  {
   "cell_type": "code",
   "execution_count": null,
   "id": "2e288be5",
   "metadata": {},
   "outputs": [],
   "source": [
    "print(f'Best Hyperparameters: {grid_search.best_params_}')"
   ]
  },
  {
   "cell_type": "markdown",
   "id": "bde67492",
   "metadata": {},
   "source": [
    " "
   ]
  },
  {
   "cell_type": "markdown",
   "id": "14acc972",
   "metadata": {},
   "source": [
    "We test the model on the training dataset first."
   ]
  },
  {
   "cell_type": "code",
   "execution_count": null,
   "id": "47a0747d",
   "metadata": {},
   "outputs": [],
   "source": [
    "y_train_pred = best_knn.predict(x_train_scaled)"
   ]
  },
  {
   "cell_type": "code",
   "execution_count": null,
   "id": "6ac6f858",
   "metadata": {},
   "outputs": [],
   "source": [
    "train_matrix = confusion_matrix(y_train, y_train_pred)\n",
    "plt.figure(figsize=(5,4))\n",
    "plt.title('Confusion Matrix for Training Dataset')\n",
    "sns.heatmap(train_matrix, annot=True, cmap='viridis', \n",
    "            xticklabels=['Wine 1', 'Wine 2', 'Wine 3'], yticklabels=['Wine 1', 'Wine 2', 'Wine 3'])\n",
    "plt.xlabel('Predicted Value')\n",
    "plt.ylabel('Actual Value')\n",
    "plt.show()"
   ]
  },
  {
   "cell_type": "code",
   "execution_count": null,
   "id": "f00d2e4b",
   "metadata": {},
   "outputs": [],
   "source": [
    "train_accu = accuracy_score(y_train, y_train_pred)\n",
    "train_report = classification_report(y_train, y_train_pred)\n",
    "print(f'Accuracy Score for Training Dataset: {train_accu:.2%}\\n')\n",
    "print(train_report)"
   ]
  },
  {
   "cell_type": "markdown",
   "id": "458c22eb",
   "metadata": {},
   "source": [
    "After using the model on the training data, we can see that we obtained a pretty high score, with 97.48% accuracy."
   ]
  },
  {
   "cell_type": "markdown",
   "id": "acdfb927",
   "metadata": {},
   "source": [
    "Next, we will test the model on the testing data."
   ]
  },
  {
   "cell_type": "markdown",
   "id": "b8cc6975",
   "metadata": {},
   "source": [
    "# Model Testing"
   ]
  },
  {
   "cell_type": "code",
   "execution_count": null,
   "id": "4ca66dd6",
   "metadata": {},
   "outputs": [],
   "source": [
    "x_test.head(10)"
   ]
  },
  {
   "cell_type": "markdown",
   "id": "2e75a1fd",
   "metadata": {},
   "source": [
    "We also have to scale our testing data so the model's performance is consistent. We will use the scaler that we used previously to scale the training data."
   ]
  },
  {
   "cell_type": "code",
   "execution_count": null,
   "id": "d79faa42",
   "metadata": {},
   "outputs": [],
   "source": [
    "# We MUST NOT fit the scaler to the testing data as it will cause data leakage.\n",
    "# Only use the transform method from the previously fitted scaler.\n",
    "\n",
    "x_test_scaled = pd.DataFrame(scaler.transform(x_test), columns=x_cols)\n",
    "x_test_scaled.head(10)"
   ]
  },
  {
   "cell_type": "markdown",
   "id": "b6274ee6",
   "metadata": {},
   "source": [
    " "
   ]
  },
  {
   "cell_type": "markdown",
   "id": "c13ddcdc",
   "metadata": {},
   "source": [
    "Here we use the previous model 'best_knn'."
   ]
  },
  {
   "cell_type": "code",
   "execution_count": null,
   "id": "846f3a42",
   "metadata": {},
   "outputs": [],
   "source": [
    "y_test_pred = best_knn.predict(x_test_scaled)\n",
    "\n",
    "test_pred_df = pd.DataFrame({'y_test': y_test, 'y_test_pred': y_test_pred})"
   ]
  },
  {
   "cell_type": "code",
   "execution_count": null,
   "id": "28565133",
   "metadata": {},
   "outputs": [],
   "source": [
    "test_pred_df"
   ]
  },
  {
   "cell_type": "markdown",
   "id": "fccf9a1d",
   "metadata": {},
   "source": [
    " "
   ]
  },
  {
   "cell_type": "markdown",
   "id": "061ac200",
   "metadata": {},
   "source": [
    "## Model Evaluation"
   ]
  },
  {
   "cell_type": "code",
   "execution_count": null,
   "id": "38978785",
   "metadata": {},
   "outputs": [],
   "source": [
    "test_accu = accuracy_score(y_test, y_test_pred)\n",
    "print(f'Accuracy Score for Testing Dataset: {test_accu:.2%}')"
   ]
  },
  {
   "cell_type": "code",
   "execution_count": null,
   "id": "d8cf3f46",
   "metadata": {},
   "outputs": [],
   "source": [
    "test_matrix = confusion_matrix(y_test, y_test_pred)\n",
    "plt.figure(figsize=(5,4))\n",
    "plt.title('Confusion Matrix for Training Dataset')\n",
    "sns.heatmap(test_matrix, annot=True, cmap='viridis', \n",
    "            xticklabels=['Wine 1', 'Wine 2', 'Wine 3'], yticklabels=['Wine 1', 'Wine 2', 'Wine 3'])\n",
    "plt.xlabel('Predicted Value')\n",
    "plt.ylabel('Actual Value')\n",
    "plt.show()"
   ]
  },
  {
   "cell_type": "code",
   "execution_count": null,
   "id": "2afbaf02",
   "metadata": {
    "scrolled": true
   },
   "outputs": [],
   "source": [
    "test_report = classification_report(y_test, y_test_pred)\n",
    "print(test_report)"
   ]
  },
  {
   "cell_type": "markdown",
   "id": "869849eb",
   "metadata": {},
   "source": [
    "##### We can see that the model works great on the testing data, acquiring 97.78% accuracy. We can also see that the model only incorrectly classified 1 data point out of 45 data points."
   ]
  }
 ],
 "metadata": {
  "kernelspec": {
   "display_name": "Python 3 (ipykernel)",
   "language": "python",
   "name": "python3"
  },
  "language_info": {
   "codemirror_mode": {
    "name": "ipython",
    "version": 3
   },
   "file_extension": ".py",
   "mimetype": "text/x-python",
   "name": "python",
   "nbconvert_exporter": "python",
   "pygments_lexer": "ipython3",
   "version": "3.9.7"
  }
 },
 "nbformat": 4,
 "nbformat_minor": 5
}
