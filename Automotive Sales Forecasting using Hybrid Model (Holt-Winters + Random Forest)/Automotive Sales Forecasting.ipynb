{
 "cells": [
  {
   "cell_type": "markdown",
   "id": "d9c33cd6",
   "metadata": {},
   "source": [
    "# Preparation"
   ]
  },
  {
   "cell_type": "code",
   "execution_count": null,
   "id": "e4c0a8d0",
   "metadata": {},
   "outputs": [],
   "source": [
    "import pandas as pd\n",
    "import numpy as np\n",
    "import matplotlib.pyplot as plt\n",
    "import seaborn as sns\n",
    "import random"
   ]
  },
  {
   "cell_type": "code",
   "execution_count": null,
   "id": "bed6b411",
   "metadata": {},
   "outputs": [],
   "source": [
    "sns.set_theme(style='darkgrid')\n",
    "pd.set_option(\"display.max_columns\", None)"
   ]
  },
  {
   "cell_type": "code",
   "execution_count": null,
   "id": "6e1c0482",
   "metadata": {},
   "outputs": [],
   "source": [
    "from pandas.io.excel import read_excel"
   ]
  },
  {
   "cell_type": "markdown",
   "id": "ced723c9",
   "metadata": {},
   "source": [
    "# Data Collection"
   ]
  },
  {
   "cell_type": "code",
   "execution_count": null,
   "id": "1cb6a7dd",
   "metadata": {},
   "outputs": [],
   "source": [
    "sales = pd.read_excel(\"D:\\Document\\AKADEMIK\\SMT 7\\SKRIPSI\\data\\data mlg.xlsx\", sheet_name='Sales UMC')[['Month', 'Produk X']]\n",
    "sales"
   ]
  },
  {
   "cell_type": "code",
   "execution_count": null,
   "id": "f83e2692",
   "metadata": {},
   "outputs": [],
   "source": [
    "inflasi = pd.read_excel(\"D:\\Document\\AKADEMIK\\SMT 7\\SKRIPSI\\data\\data mlg.xlsx\", sheet_name='Inflasi')[['Month','Inflasi Transportasi']]\n",
    "inflasi"
   ]
  },
  {
   "cell_type": "code",
   "execution_count": null,
   "id": "ddef224c",
   "metadata": {},
   "outputs": [],
   "source": [
    "ihk = pd.read_excel(\"D:\\Document\\AKADEMIK\\SMT 7\\SKRIPSI\\data\\data mlg.xlsx\", sheet_name='IHK Transportasi')\n",
    "ihk"
   ]
  },
  {
   "cell_type": "code",
   "execution_count": null,
   "id": "c2f32066",
   "metadata": {},
   "outputs": [],
   "source": [
    "Harga_Produk_X = pd.read_excel(r\"D:\\Document\\AKADEMIK\\SMT 7\\SKRIPSI\\data\\Analisis Produk_X\\google trend\\Excel Harga Produk X.xlsx\")\n",
    "Harga_Produk_X"
   ]
  },
  {
   "cell_type": "code",
   "execution_count": null,
   "id": "3151ffe4",
   "metadata": {},
   "outputs": [],
   "source": [
    "Harga_Produk_X_merek = pd.read_excel(r\"D:\\Document\\AKADEMIK\\SMT 7\\SKRIPSI\\data\\Analisis Produk_X\\google trend\\Excel Harga Produk_X (+merek).xlsx\")\n",
    "Harga_Produk_X_merek"
   ]
  },
  {
   "cell_type": "code",
   "execution_count": null,
   "id": "c0693cf1",
   "metadata": {},
   "outputs": [],
   "source": [
    "Produk_X_search = pd.read_excel(r\"D:\\Document\\AKADEMIK\\SMT 7\\SKRIPSI\\data\\Analisis Produk_X\\google trend\\Excel Produk_X (search term).xlsx\")\n",
    "Produk_X_search"
   ]
  },
  {
   "cell_type": "code",
   "execution_count": null,
   "id": "a9a86c06",
   "metadata": {},
   "outputs": [],
   "source": [
    "Perusahaan_Z_malang = pd.read_excel(r\"D:\\Document\\AKADEMIK\\SMT 7\\SKRIPSI\\data\\Analisis Produk_X\\google trend\\Excel Perusahaan_Z malang.xlsx\")\n",
    "Perusahaan_Z_malang"
   ]
  },
  {
   "cell_type": "code",
   "execution_count": null,
   "id": "b9bcadbb",
   "metadata": {},
   "outputs": [],
   "source": [
    "Perusahaan_Z = pd.read_excel(r\"D:\\Document\\AKADEMIK\\SMT 7\\SKRIPSI\\data\\Analisis Produk_X\\google trend\\Excel Perusahaan_Z.xlsx\")\n",
    "Perusahaan_Z"
   ]
  },
  {
   "cell_type": "markdown",
   "id": "0c9bb5da",
   "metadata": {},
   "source": [
    "# Data Integration"
   ]
  },
  {
   "cell_type": "markdown",
   "id": "eaa56479",
   "metadata": {},
   "source": [
    "### Online Search Data + Sales"
   ]
  },
  {
   "cell_type": "code",
   "execution_count": null,
   "id": "e9df81cc",
   "metadata": {},
   "outputs": [],
   "source": [
    "df_search = pd.merge(Harga_Produk_X, Harga_Produk_X_merek, on='Month')\n",
    "df_search = pd.merge(df_search, Produk_X_search, on='Month')\n",
    "df_search = pd.merge(df_search, Perusahaan_Z_malang, on='Month')\n",
    "df_search = pd.merge(df_search, Perusahaan_Z, on='Month')\n",
    "df_search"
   ]
  },
  {
   "cell_type": "code",
   "execution_count": null,
   "id": "2dd8a3ec",
   "metadata": {},
   "outputs": [],
   "source": [
    "df_search.info()"
   ]
  },
  {
   "cell_type": "code",
   "execution_count": null,
   "id": "0c4917e5",
   "metadata": {
    "scrolled": false
   },
   "outputs": [],
   "source": [
    "df_search"
   ]
  },
  {
   "cell_type": "code",
   "execution_count": null,
   "id": "422cf335",
   "metadata": {},
   "outputs": [],
   "source": [
    "df_search = pd.merge(df_search, sales, on='Month')"
   ]
  },
  {
   "cell_type": "code",
   "execution_count": null,
   "id": "8c4bedf4",
   "metadata": {},
   "outputs": [],
   "source": [
    "df_search"
   ]
  },
  {
   "cell_type": "markdown",
   "id": "e5d0bef9",
   "metadata": {},
   "source": [
    "### Economic Variables + Sales"
   ]
  },
  {
   "cell_type": "code",
   "execution_count": null,
   "id": "a7feddcf",
   "metadata": {},
   "outputs": [],
   "source": [
    "df_eco = pd.merge(inflasi, ihk, on='Month')\n",
    "df_eco"
   ]
  },
  {
   "cell_type": "code",
   "execution_count": null,
   "id": "951a100e",
   "metadata": {},
   "outputs": [],
   "source": [
    "df_eco.rename(columns={'Inflasi Transportasi':'Inflasi', \n",
    "                       'Indeks Harga Konsumen':'IHK'},\n",
    "              inplace=True)"
   ]
  },
  {
   "cell_type": "code",
   "execution_count": null,
   "id": "de10d367",
   "metadata": {},
   "outputs": [],
   "source": [
    "df_eco"
   ]
  },
  {
   "cell_type": "markdown",
   "id": "97ee2964",
   "metadata": {},
   "source": [
    "### Economic Variables + Online Search Data + Sales"
   ]
  },
  {
   "cell_type": "code",
   "execution_count": null,
   "id": "c98aaa6c",
   "metadata": {},
   "outputs": [],
   "source": [
    "df_full = pd.merge(df_eco, df_search, on='Month')\n",
    "df_full"
   ]
  },
  {
   "cell_type": "markdown",
   "id": "6058a0f9",
   "metadata": {},
   "source": [
    "# Data Exploratory"
   ]
  },
  {
   "cell_type": "markdown",
   "id": "3c09d7cb",
   "metadata": {},
   "source": [
    "#### Missing Value"
   ]
  },
  {
   "cell_type": "code",
   "execution_count": null,
   "id": "075c6c39",
   "metadata": {},
   "outputs": [],
   "source": [
    "df_full.isna().sum()"
   ]
  },
  {
   "cell_type": "code",
   "execution_count": null,
   "id": "cdc681f6",
   "metadata": {},
   "outputs": [],
   "source": [
    "df_full[df_full.isna().any(axis=1)]"
   ]
  },
  {
   "cell_type": "code",
   "execution_count": null,
   "id": "a083a446",
   "metadata": {},
   "outputs": [],
   "source": [
    "df_full.dropna(inplace=True)"
   ]
  },
  {
   "cell_type": "code",
   "execution_count": null,
   "id": "1c4cf76b",
   "metadata": {},
   "outputs": [],
   "source": [
    "df_full.isna().sum()"
   ]
  },
  {
   "cell_type": "code",
   "execution_count": null,
   "id": "2f1a74a6",
   "metadata": {},
   "outputs": [],
   "source": [
    "df_full = df_full.reset_index(drop=True)"
   ]
  },
  {
   "cell_type": "code",
   "execution_count": null,
   "id": "5b086206",
   "metadata": {},
   "outputs": [],
   "source": [
    "df_full.info()"
   ]
  },
  {
   "cell_type": "code",
   "execution_count": null,
   "id": "e590ad72",
   "metadata": {},
   "outputs": [],
   "source": [
    "df_full['Penjualan Produk X'] = df_full['Penjualan Produk X'].astype(int)"
   ]
  },
  {
   "cell_type": "markdown",
   "id": "4148d6f9",
   "metadata": {},
   "source": [
    "#### Descriptive Statistics"
   ]
  },
  {
   "cell_type": "code",
   "execution_count": null,
   "id": "10ea1ba0",
   "metadata": {},
   "outputs": [],
   "source": [
    "df_full.describe()"
   ]
  },
  {
   "cell_type": "code",
   "execution_count": null,
   "id": "cb3e7c4b",
   "metadata": {},
   "outputs": [],
   "source": [
    "df_cols = df_full.columns\n",
    "df_cols"
   ]
  },
  {
   "cell_type": "markdown",
   "id": "0bc868f7",
   "metadata": {},
   "source": [
    "#### Data Visualization"
   ]
  },
  {
   "cell_type": "markdown",
   "id": "17073933",
   "metadata": {},
   "source": [
    "##### Time Series"
   ]
  },
  {
   "cell_type": "code",
   "execution_count": null,
   "id": "749fa591",
   "metadata": {},
   "outputs": [],
   "source": [
    "plt.figure(figsize=(12,4))\n",
    "plt.xticks(rotation=90)\n",
    "sns.lineplot(data=df_full, x='Month', y='Penjualan Produk X', marker='o')\n",
    "\n",
    "for year in range(2014,2026):\n",
    "    jan_date = pd.Timestamp(f'{year}-01-01')\n",
    "    plt.axvline(jan_date, color='k', linestyle='--')\n",
    "    \n",
    "plt.title('Penjualan Produk X di Dealer U pada Tahun 2014-2025', fontweight='bold')\n",
    "plt.ylabel('Penjualan Produk X')\n",
    "plt.tight_layout()\n",
    "plt.show()"
   ]
  },
  {
   "cell_type": "markdown",
   "id": "05eb607a",
   "metadata": {},
   "source": [
    "##### Variable Distribution"
   ]
  },
  {
   "cell_type": "code",
   "execution_count": null,
   "id": "bcc31838",
   "metadata": {},
   "outputs": [],
   "source": [
    "df_cols = df_cols[1:10]\n",
    "df_cols"
   ]
  },
  {
   "cell_type": "code",
   "execution_count": null,
   "id": "5b4c50ee",
   "metadata": {},
   "outputs": [],
   "source": [
    "fig, axes = plt.subplots(2, 4, figsize=(10,5))\n",
    "axes=axes.flatten()\n",
    "\n",
    "for i, col in enumerate(df_cols):\n",
    "    sns.histplot(df_full, x=df_full[col], ax=axes[i], kde=True, color='#004b66')\n",
    "    axes[i].set_title(f'Variabel {df_cols[i]}')\n",
    "    axes[i].set_xlabel('')\n",
    "    plt.tight_layout()\n",
    "\n",
    "plt.suptitle(\"Distribusi Variabel pada Dataset Penjualan Produk X\", fontsize=14, fontweight='bold')\n",
    "plt.tight_layout(rect=[0,0,1,1])\n",
    "plt.show()"
   ]
  },
  {
   "cell_type": "code",
   "execution_count": null,
   "id": "83b7cd8d",
   "metadata": {},
   "outputs": [],
   "source": [
    "df_full.head(5)"
   ]
  },
  {
   "cell_type": "markdown",
   "id": "1705c446",
   "metadata": {},
   "source": [
    "##### Variable Relationship"
   ]
  },
  {
   "cell_type": "code",
   "execution_count": null,
   "id": "06cb5569",
   "metadata": {},
   "outputs": [],
   "source": [
    "fig, axes = plt.subplots(2, 4, figsize=(10,5))\n",
    "axes=axes.flatten()\n",
    "\n",
    "for i, col in enumerate(df_cols):\n",
    "    sns.scatterplot(df_full,\n",
    "                    x=df_full['Penjualan Produk X'],\n",
    "                    y=df_full[col],\n",
    "                    ax=axes[i],\n",
    "                    color='#6600cc')\n",
    "    plt.tight_layout()\n",
    "    axes[i].set_xlabel('Penjualan Produk X')\n",
    "\n",
    "plt.suptitle(\"Hubungan Variabel Independen terhadap Penjualan Produk X\", fontsize=14, fontweight='bold')\n",
    "plt.tight_layout(rect=[0,0,1,1.02])\n",
    "plt.show()"
   ]
  },
  {
   "cell_type": "code",
   "execution_count": null,
   "id": "952bcedf",
   "metadata": {},
   "outputs": [],
   "source": [
    "plt.figure(figsize=(8,4))\n",
    "plt.title('Korelasi Antar Variabel (2014-2023)', fontweight='bold')\n",
    "sns.heatmap(df_full.corr(), annot=True, cmap='viridis', fmt='.2f')\n",
    "plt.show()"
   ]
  },
  {
   "cell_type": "code",
   "execution_count": null,
   "id": "426259a0",
   "metadata": {},
   "outputs": [],
   "source": [
    "df_full.corr()"
   ]
  },
  {
   "cell_type": "markdown",
   "id": "cf49f04b",
   "metadata": {},
   "source": [
    "#### Outlier Identification"
   ]
  },
  {
   "cell_type": "code",
   "execution_count": null,
   "id": "09c80161",
   "metadata": {},
   "outputs": [],
   "source": [
    "fig, axes = plt.subplots(2, 4, figsize=(10,4))\n",
    "axes=axes.flatten()\n",
    "\n",
    "for i, col in enumerate(df_cols):\n",
    "    sns.boxplot(data=df_full,\n",
    "                x=col,\n",
    "                ax=axes[i],\n",
    "                color='#00ff99')\n",
    "    axes[i].set_title(f'Variabel {df_cols[i]}')\n",
    "    axes[i].set_xlabel('')\n",
    "    plt.tight_layout()\n",
    "\n",
    "plt.suptitle(\"Boxplot dari Seluruh Variabel pada Dataset Penjualan Produk X\", fontsize=14, fontweight='bold')\n",
    "plt.tight_layout(rect=[0,0,1,1])\n",
    "plt.show()"
   ]
  },
  {
   "cell_type": "code",
   "execution_count": null,
   "id": "1ad85a06",
   "metadata": {},
   "outputs": [],
   "source": [
    "Q1_sales = df_full['Penjualan Produk X'].quantile(0.25)\n",
    "Q3_sales = df_full['Penjualan Produk X'].quantile(0.75)\n",
    "IQR_sales = Q3_sales - Q1_sales\n",
    "\n",
    "outlier_sales = df_full[(df_full['Penjualan Produk X'] > Q3_sales + 1.5*IQR_sales) |\n",
    "                        (df_full['Penjualan Produk X'] < Q1_sales - 1.5*IQR_sales)]\n",
    "outlier_sales[['Month', 'Penjualan Produk X']]"
   ]
  },
  {
   "cell_type": "code",
   "execution_count": null,
   "id": "1e8cd2b3",
   "metadata": {},
   "outputs": [],
   "source": [
    "print(f'Q1: {Q1_sales}, Q3: {Q3_sales}, IQR: {IQR_sales}')"
   ]
  },
  {
   "cell_type": "markdown",
   "id": "009909d0",
   "metadata": {},
   "source": [
    "## Decomposition"
   ]
  },
  {
   "cell_type": "code",
   "execution_count": null,
   "id": "00380ee4",
   "metadata": {},
   "outputs": [],
   "source": [
    "from statsmodels.tsa.seasonal import STL"
   ]
  },
  {
   "cell_type": "code",
   "execution_count": null,
   "id": "f80832ec",
   "metadata": {},
   "outputs": [],
   "source": [
    "df_full.head()"
   ]
  },
  {
   "cell_type": "code",
   "execution_count": null,
   "id": "fb04abc3",
   "metadata": {},
   "outputs": [],
   "source": [
    "target = df_full[['Month', 'Penjualan Produk X']].set_index(keys='Month')\n",
    "target"
   ]
  },
  {
   "cell_type": "code",
   "execution_count": null,
   "id": "2e2c843b",
   "metadata": {},
   "outputs": [],
   "source": [
    "stl = STL(target, period=12)\n",
    "result = stl.fit()"
   ]
  },
  {
   "cell_type": "code",
   "execution_count": null,
   "id": "d3db9b80",
   "metadata": {},
   "outputs": [],
   "source": [
    "seasonal, trend, resid = result.seasonal, result.trend, result.resid"
   ]
  },
  {
   "cell_type": "code",
   "execution_count": null,
   "id": "aa404ccf",
   "metadata": {},
   "outputs": [],
   "source": [
    "stl_element = [target, trend, seasonal]"
   ]
  },
  {
   "cell_type": "code",
   "execution_count": null,
   "id": "9a2ed3c1",
   "metadata": {},
   "outputs": [],
   "source": [
    "plt.figure(figsize=(15,12))\n",
    "ylabel=['Series', 'Trend', 'Seasonality', 'Residual']\n",
    "for index, element in enumerate(stl_element):\n",
    "    plt.subplot(4,1,index+1)\n",
    "    sns.lineplot(element, marker='o')\n",
    "    plt.ylabel(ylabel[index])\n",
    "    \n",
    "    for year in range(2014,2026):\n",
    "        jan_date = pd.Timestamp(f'{year}-01-01')\n",
    "        plt.axvline(jan_date, color='k', linestyle='--')\n",
    "    \n",
    "plt.subplot(4,1,4)\n",
    "sns.scatterplot(resid)\n",
    "plt.ylabel(ylabel[3])\n",
    "for year in range(2014,2026):\n",
    "        jan_date = pd.Timestamp(f'{year}-01-01')\n",
    "        plt.axvline(jan_date, color='k', linestyle='--')\n",
    "\n",
    "plt.suptitle(\"Dekomposisi Data Penjualan Produk X\", fontsize=16, fontweight='bold')\n",
    "plt.tight_layout(rect=[0, 0, 1, 1])\n",
    "plt.show()"
   ]
  },
  {
   "cell_type": "markdown",
   "id": "6df4cd3c",
   "metadata": {},
   "source": [
    "### Sales Autocorrelation"
   ]
  },
  {
   "cell_type": "code",
   "execution_count": null,
   "id": "dcbbe28b",
   "metadata": {},
   "outputs": [],
   "source": [
    "from statsmodels.graphics.tsaplots import plot_pacf, plot_acf\n",
    "from statsmodels.tsa.stattools import adfuller"
   ]
  },
  {
   "cell_type": "markdown",
   "id": "727d0a26",
   "metadata": {},
   "source": [
    "#### Uji Stasioneritas"
   ]
  },
  {
   "cell_type": "code",
   "execution_count": null,
   "id": "c06390c8",
   "metadata": {},
   "outputs": [],
   "source": [
    "def adf_test(series):\n",
    "    result = adfuller(series)\n",
    "    if result[1] >= 0.05:\n",
    "        print(f'p-value= {result[1]}\\nData Non-Stasioner')\n",
    "    \n",
    "    else:\n",
    "        print(f'p-value= {result[1]}\\nData Stasioner')"
   ]
  },
  {
   "cell_type": "code",
   "execution_count": null,
   "id": "c1f41d5b",
   "metadata": {},
   "outputs": [],
   "source": [
    "df_full"
   ]
  },
  {
   "cell_type": "code",
   "execution_count": null,
   "id": "c0e43b62",
   "metadata": {},
   "outputs": [],
   "source": [
    "adf_test(df_full['Penjualan Produk X'])"
   ]
  },
  {
   "cell_type": "code",
   "execution_count": null,
   "id": "5f994e9e",
   "metadata": {},
   "outputs": [],
   "source": [
    "fig, ax = plt.subplots(1,2,figsize=(10,4))\n",
    "ax = ax.flatten()\n",
    "\n",
    "plot_pacf(df_full['Penjualan Produk X'], lags=12, ax=ax[0])\n",
    "ax[0].set_title('Plot PACF dari Variabel Penjualan Produk X')\n",
    "\n",
    "plot_acf(df_full['Penjualan Produk X'], lags=12, ax=ax[1])\n",
    "ax[1].set_title('Plot ACF dari Variabel Penjualan Produk X')\n",
    "\n",
    "plt.tight_layout()\n",
    "plt.show()"
   ]
  },
  {
   "cell_type": "markdown",
   "id": "483b9a16",
   "metadata": {},
   "source": [
    "##### "
   ]
  },
  {
   "cell_type": "markdown",
   "id": "fa2d67a1",
   "metadata": {},
   "source": [
    "# Model Training (Holt-Winters)"
   ]
  },
  {
   "cell_type": "markdown",
   "id": "c8228dda",
   "metadata": {},
   "source": [
    "## Prep"
   ]
  },
  {
   "cell_type": "code",
   "execution_count": null,
   "id": "c51dcfe5",
   "metadata": {},
   "outputs": [],
   "source": [
    "from pmdarima import auto_arima\n",
    "from statsmodels.tsa.holtwinters import ExponentialSmoothing\n",
    "from sklearn.metrics import mean_absolute_error, mean_squared_error, mean_absolute_percentage_error"
   ]
  },
  {
   "cell_type": "code",
   "execution_count": null,
   "id": "58ff0642",
   "metadata": {},
   "outputs": [],
   "source": [
    "hw_train = df_full['Penjualan Produk X'].iloc[:120].copy()\n",
    "hw_test = df_full['Penjualan Produk X'].tail(14).copy().reset_index(drop=True)"
   ]
  },
  {
   "cell_type": "code",
   "execution_count": null,
   "id": "702e333c",
   "metadata": {
    "scrolled": true
   },
   "outputs": [],
   "source": [
    "hw_train"
   ]
  },
  {
   "cell_type": "code",
   "execution_count": null,
   "id": "11837ac8",
   "metadata": {},
   "outputs": [],
   "source": [
    "hw_test"
   ]
  },
  {
   "cell_type": "markdown",
   "id": "627b93d5",
   "metadata": {},
   "source": [
    "##### "
   ]
  },
  {
   "cell_type": "markdown",
   "id": "60a84117",
   "metadata": {},
   "source": [
    "#### Date Index"
   ]
  },
  {
   "cell_type": "code",
   "execution_count": null,
   "id": "46362bdf",
   "metadata": {},
   "outputs": [],
   "source": [
    "df_eco['Month'].iloc[12:132].reset_index(drop=True)"
   ]
  },
  {
   "cell_type": "code",
   "execution_count": null,
   "id": "0dd9fcb7",
   "metadata": {},
   "outputs": [],
   "source": [
    "train_date = df_eco['Month'].iloc[12:132].reset_index(drop=True)\n",
    "test_date = df_eco['Month'].loc[132:].reset_index(drop=True)"
   ]
  },
  {
   "cell_type": "code",
   "execution_count": null,
   "id": "f8846621",
   "metadata": {},
   "outputs": [],
   "source": [
    "train_date"
   ]
  },
  {
   "cell_type": "code",
   "execution_count": null,
   "id": "d6ed35ce",
   "metadata": {},
   "outputs": [],
   "source": [
    "test_date"
   ]
  },
  {
   "cell_type": "markdown",
   "id": "9b7edcc2",
   "metadata": {},
   "source": [
    "##### "
   ]
  },
  {
   "cell_type": "markdown",
   "id": "dab1a155",
   "metadata": {},
   "source": [
    "### Holt-Winters"
   ]
  },
  {
   "cell_type": "code",
   "execution_count": null,
   "id": "f38a050d",
   "metadata": {},
   "outputs": [],
   "source": [
    "hw_train[hw_train == 0]"
   ]
  },
  {
   "cell_type": "markdown",
   "id": "b3a4f486",
   "metadata": {},
   "source": [
    "Ada nilai 0, sehingga harus diubah ke nilai positif karena model Holt-Winters yang digunakan adalah model 'multiplicative' yang hanya bisa menerima nilai positif. Maka dari itu, nilai 0 ini akan diubah menjadi 1."
   ]
  },
  {
   "cell_type": "code",
   "execution_count": null,
   "id": "04b3bb8a",
   "metadata": {},
   "outputs": [],
   "source": [
    "hw_train[hw_train == 0] = 1"
   ]
  },
  {
   "cell_type": "code",
   "execution_count": null,
   "id": "52c64eda",
   "metadata": {},
   "outputs": [],
   "source": [
    "hw_train[hw_train == 0]"
   ]
  },
  {
   "cell_type": "code",
   "execution_count": null,
   "id": "b788a116",
   "metadata": {},
   "outputs": [],
   "source": [
    "hw_model_awal = ExponentialSmoothing(hw_train, \n",
    "                                     trend='add', \n",
    "                                     seasonal='mul', \n",
    "                                     seasonal_periods=12).fit()"
   ]
  },
  {
   "cell_type": "code",
   "execution_count": null,
   "id": "66fd1e8d",
   "metadata": {},
   "outputs": [],
   "source": [
    "print(\"Smoothing Parameters\")\n",
    "print(\"Alpha (level):\", hw_model_awal.params['smoothing_level'])\n",
    "print(\"Beta (trend):\", hw_model_awal.params.get('smoothing_trend'))\n",
    "print(\"Gamma (seasonal):\", hw_model_awal.params.get('smoothing_seasonal'))\n",
    "\n",
    "print(\"\\nInitial State\")\n",
    "print(\"Initial level:\", hw_model_awal.params['initial_level'])\n",
    "print(\"Initial trend:\", hw_model_awal.params.get('initial_trend'))\n",
    "print(\"Initial seasonal:\", hw_model_awal.params.get('initial_seasonal'))"
   ]
  },
  {
   "cell_type": "code",
   "execution_count": null,
   "id": "23a4f13b",
   "metadata": {},
   "outputs": [],
   "source": [
    "hw_model_awal.trend"
   ]
  },
  {
   "cell_type": "code",
   "execution_count": null,
   "id": "bc4741ef",
   "metadata": {},
   "outputs": [],
   "source": [
    "hw_awal_insample = hw_model_awal.predict(start=0,\n",
    "                                         end=len(hw_train) - 1)\n",
    "\n",
    "hw_awal_outsample = hw_model_awal.predict(start=len(hw_train),\n",
    "                                          end = len(hw_train)\n",
    "                                                + len (hw_test) \n",
    "                                                - 1)"
   ]
  },
  {
   "cell_type": "code",
   "execution_count": null,
   "id": "94eb3561",
   "metadata": {},
   "outputs": [],
   "source": [
    "hw_awal_insample_df = pd.DataFrame({'Y_Actual': hw_train,\n",
    "                               'Y_Predicted': hw_awal_insample.reset_index(drop=True),\n",
    "                               'Date': train_date})\n",
    "\n",
    "hw_awal_outsample_df = pd.DataFrame({'Y_Actual': hw_test,\n",
    "                                'Y_Predicted': hw_awal_outsample.reset_index(drop=True),\n",
    "                                'Date': test_date})"
   ]
  },
  {
   "cell_type": "code",
   "execution_count": null,
   "id": "df4a76f5",
   "metadata": {
    "scrolled": true
   },
   "outputs": [],
   "source": [
    "hw_awal_insample_df['Y_Predicted'] = round(hw_awal_insample_df['Y_Predicted']).astype(int)\n",
    "hw_awal_outsample_df['Y_Predicted'] = round(hw_awal_outsample_df['Y_Predicted']).astype(int)"
   ]
  },
  {
   "cell_type": "code",
   "execution_count": null,
   "id": "cbc8ac62",
   "metadata": {},
   "outputs": [],
   "source": [
    "hw_awal_insample_df.set_index(keys='Date', inplace=True)\n",
    "hw_awal_outsample_df.set_index(keys='Date', inplace=True)"
   ]
  },
  {
   "cell_type": "code",
   "execution_count": null,
   "id": "45fbca07",
   "metadata": {},
   "outputs": [],
   "source": [
    "hw_awal_insample_df.head(24)"
   ]
  },
  {
   "cell_type": "code",
   "execution_count": null,
   "id": "4fd666db",
   "metadata": {},
   "outputs": [],
   "source": [
    "# hw Out of Sample\n",
    "plt.figure(figsize=(10,4))\n",
    "plt.xticks(rotation=90)\n",
    "sns.lineplot(data=hw_awal_insample_df, dashes=False, marker='o')\n",
    "    \n",
    "plt.title('In Sample Actual vs Predicted Value using Holt-Winters Exponential Smoothing', fontweight='bold')\n",
    "plt.tight_layout()\n",
    "plt.show()"
   ]
  },
  {
   "cell_type": "code",
   "execution_count": null,
   "id": "0c53f948",
   "metadata": {},
   "outputs": [],
   "source": [
    "hw_awal_outsample_df"
   ]
  },
  {
   "cell_type": "code",
   "execution_count": null,
   "id": "cbdd4027",
   "metadata": {},
   "outputs": [],
   "source": [
    "# hw Out of Sample\n",
    "plt.figure(figsize=(10,4))\n",
    "plt.xticks(rotation=90)\n",
    "sns.lineplot(data=hw_awal_outsample_df, dashes=False, marker='o')\n",
    "    \n",
    "plt.title('Out of Sample Actual vs Predicted Value using Holt-Winters Exponential Smoothing')\n",
    "plt.tight_layout()\n",
    "plt.show()"
   ]
  },
  {
   "cell_type": "code",
   "execution_count": null,
   "id": "f2377db0",
   "metadata": {},
   "outputs": [],
   "source": [
    "hw_awal_insample_df"
   ]
  },
  {
   "cell_type": "code",
   "execution_count": null,
   "id": "c5a130b4",
   "metadata": {},
   "outputs": [],
   "source": [
    "hw_awal_outsample_df"
   ]
  },
  {
   "cell_type": "code",
   "execution_count": null,
   "id": "08490179",
   "metadata": {},
   "outputs": [],
   "source": [
    "df_hw = pd.concat([hw_awal_insample_df, hw_awal_outsample_df])\n",
    "df_hw"
   ]
  },
  {
   "cell_type": "code",
   "execution_count": null,
   "id": "6540b7b5",
   "metadata": {},
   "outputs": [],
   "source": [
    "df_hw.rename(columns={'Y_Actual':'Aktual', 'Y_Predicted':'HW Awal'}, inplace=True)"
   ]
  },
  {
   "cell_type": "markdown",
   "id": "33fd07f1",
   "metadata": {},
   "source": [
    "##### "
   ]
  },
  {
   "cell_type": "code",
   "execution_count": null,
   "id": "59ef3eca",
   "metadata": {},
   "outputs": [],
   "source": [
    "hw_model = ExponentialSmoothing(hw_train, trend='mul', seasonal='mul', seasonal_periods=12).fit()"
   ]
  },
  {
   "cell_type": "code",
   "execution_count": null,
   "id": "7bb9cf31",
   "metadata": {},
   "outputs": [],
   "source": [
    "print(\"Smoothing Parameters\")\n",
    "print(\"Alpha (level):\", hw_model.params['smoothing_level'])\n",
    "print(\"Beta (trend):\", hw_model.params.get('smoothing_trend'))\n",
    "print(\"Gamma (seasonal):\", hw_model.params.get('smoothing_seasonal'))\n",
    "\n",
    "print(\"\\nInitial State\")\n",
    "print(\"Initial level:\", hw_model.params['initial_level'])\n",
    "print(\"Initial trend:\", hw_model.params.get('initial_trend'))\n",
    "print(\"Initial seasonal:\", hw_model.params.get('initial_seasonal'))"
   ]
  },
  {
   "cell_type": "code",
   "execution_count": null,
   "id": "e7ba9ccd",
   "metadata": {},
   "outputs": [],
   "source": [
    "hw_model.trend"
   ]
  },
  {
   "cell_type": "code",
   "execution_count": null,
   "id": "dbc593f1",
   "metadata": {},
   "outputs": [],
   "source": [
    "hw_insample = hw_model.predict(start=0, end=len(hw_train) - 1)\n",
    "hw_outsample = hw_model.predict(start=len(hw_train), end = len(hw_train) + len (hw_test) - 1)"
   ]
  },
  {
   "cell_type": "code",
   "execution_count": null,
   "id": "e04105ae",
   "metadata": {},
   "outputs": [],
   "source": [
    "hw_insample_df = pd.DataFrame({'Y_Actual': hw_train,\n",
    "                               'Y_Predicted': hw_insample.reset_index(drop=True),\n",
    "                               'Date': train_date})\n",
    "\n",
    "hw_outsample_df = pd.DataFrame({'Y_Actual': hw_test,\n",
    "                                'Y_Predicted': hw_outsample.reset_index(drop=True),\n",
    "                                'Date': test_date})"
   ]
  },
  {
   "cell_type": "code",
   "execution_count": null,
   "id": "91b98281",
   "metadata": {
    "scrolled": true
   },
   "outputs": [],
   "source": [
    "hw_insample_df['Y_Predicted'] = round(hw_insample_df['Y_Predicted']).astype(int)\n",
    "hw_outsample_df['Y_Predicted'] = round(hw_outsample_df['Y_Predicted']).astype(int)"
   ]
  },
  {
   "cell_type": "code",
   "execution_count": null,
   "id": "ebdd5a94",
   "metadata": {},
   "outputs": [],
   "source": [
    "hw_insample_df.set_index(keys='Date', inplace=True)\n",
    "hw_outsample_df.set_index(keys='Date', inplace=True)"
   ]
  },
  {
   "cell_type": "code",
   "execution_count": null,
   "id": "5bbdbef4",
   "metadata": {},
   "outputs": [],
   "source": [
    "hw_insample_df.head(24)"
   ]
  },
  {
   "cell_type": "code",
   "execution_count": null,
   "id": "14df822c",
   "metadata": {},
   "outputs": [],
   "source": [
    "# hw Out of Sample\n",
    "plt.figure(figsize=(10,4))\n",
    "plt.xticks(rotation=90)\n",
    "sns.lineplot(data=hw_insample_df, dashes=False, marker='o')\n",
    "    \n",
    "plt.title('In Sample Actual vs Predicted Value using Holt-Winters Exponential Smoothing', fontweight='bold')\n",
    "plt.tight_layout()\n",
    "plt.show()"
   ]
  },
  {
   "cell_type": "code",
   "execution_count": null,
   "id": "10c1ea8f",
   "metadata": {},
   "outputs": [],
   "source": [
    "hw_outsample_df"
   ]
  },
  {
   "cell_type": "code",
   "execution_count": null,
   "id": "4a80c522",
   "metadata": {},
   "outputs": [],
   "source": [
    "# hw Out of Sample\n",
    "plt.figure(figsize=(10,4))\n",
    "plt.xticks(rotation=90)\n",
    "sns.lineplot(data=hw_outsample_df, dashes=False, marker='o')\n",
    "    \n",
    "plt.title('Out of Sample Actual vs Predicted Value using Holt-Winters Exponential Smoothing')\n",
    "plt.tight_layout()\n",
    "plt.show()"
   ]
  },
  {
   "cell_type": "markdown",
   "id": "2a286923",
   "metadata": {},
   "source": [
    "#### HW Model Evaluation"
   ]
  },
  {
   "cell_type": "code",
   "execution_count": null,
   "id": "38c1bb23",
   "metadata": {},
   "outputs": [],
   "source": [
    "# in of Sample\n",
    "hw_insample_mae = mean_absolute_error(hw_insample_df['Y_Actual'], hw_insample_df['Y_Predicted'])\n",
    "\n",
    "hw_insample_rmse = mean_squared_error(hw_insample_df['Y_Actual'], hw_insample_df['Y_Predicted'], squared=False)\n",
    "\n",
    "print(f'Holt-Winters (In Sample) - RMSE: {hw_insample_rmse}, MAE: {hw_insample_mae}')"
   ]
  },
  {
   "cell_type": "code",
   "execution_count": null,
   "id": "b8f98203",
   "metadata": {},
   "outputs": [],
   "source": [
    "# Out of Sample\n",
    "hw_outsample_mae = mean_absolute_error(hw_outsample_df['Y_Actual'], hw_outsample_df['Y_Predicted'])\n",
    "\n",
    "hw_outsample_rmse = mean_squared_error(hw_outsample_df['Y_Actual'], hw_outsample_df['Y_Predicted'], squared=False)\n",
    "\n",
    "print(f'Holt-Winters (Out of Sample) - RMSE: {hw_outsample_rmse}, MAE: {hw_outsample_mae}')"
   ]
  },
  {
   "cell_type": "markdown",
   "id": "0321f154",
   "metadata": {},
   "source": [
    "##### "
   ]
  },
  {
   "cell_type": "code",
   "execution_count": null,
   "id": "0ce7eaff",
   "metadata": {},
   "outputs": [],
   "source": [
    "df_hw_opt = pd.concat([hw_insample_df, hw_outsample_df])\n",
    "df_hw_opt = df_hw_opt[['Y_Predicted']]\n",
    "df_hw_opt"
   ]
  },
  {
   "cell_type": "code",
   "execution_count": null,
   "id": "1e1d4ad2",
   "metadata": {},
   "outputs": [],
   "source": [
    "df_hw = pd.concat([df_hw, df_hw_opt], axis=1)\n",
    "df_hw"
   ]
  },
  {
   "cell_type": "code",
   "execution_count": null,
   "id": "449939f5",
   "metadata": {},
   "outputs": [],
   "source": [
    "df_hw.rename(columns={'Y_Predicted':'HW Optimal'}, inplace=True)"
   ]
  },
  {
   "cell_type": "markdown",
   "id": "dff78a7b",
   "metadata": {},
   "source": [
    "##### "
   ]
  },
  {
   "cell_type": "markdown",
   "id": "e0460409",
   "metadata": {},
   "source": [
    "### HW + Expanding Window Forecast"
   ]
  },
  {
   "cell_type": "code",
   "execution_count": null,
   "id": "51ad681a",
   "metadata": {
    "scrolled": true
   },
   "outputs": [],
   "source": [
    "history = list(hw_train)\n",
    "predictions = []\n",
    "\n",
    "for t in range(len(hw_test)):\n",
    "    model = ExponentialSmoothing(history, trend='mul', seasonal='mul', seasonal_periods=12)\n",
    "    model_fit = model.fit()\n",
    "\n",
    "    forecast = model_fit.forecast(steps=1)\n",
    "    predictions.append(forecast[0])\n",
    "    history.append(hw_test.iloc[t])\n",
    "\n",
    "expanding_forecast_df = pd.DataFrame({'Y_Actual' : hw_test.reset_index(drop=True),\n",
    "                                    'Y_Predicted' : predictions,\n",
    "                                    'Date' : test_date})\n",
    "\n",
    "expanding_forecast_df.set_index(keys='Date', inplace=True)\n",
    "expanding_forecast_df['Y_Predicted'] = round(expanding_forecast_df['Y_Predicted']).astype(int\n",
    "                                                                                     )\n",
    "roll_mae = mean_absolute_error(expanding_forecast_df['Y_Actual'], expanding_forecast_df['Y_Predicted'])\n",
    "roll_rmse = mean_squared_error(expanding_forecast_df['Y_Actual'], expanding_forecast_df['Y_Predicted'], squared=False)\n",
    "\n",
    "plt.figure(figsize=(10,4))\n",
    "sns.lineplot(expanding_forecast_df, marker='o', dashes=False)\n",
    "plt.tight_layout()\n",
    "plt.show()\n",
    "\n",
    "print(f\"Opt. HW + Expanding Forecast - RMSE = {roll_rmse}, MAE = {roll_mae}\")"
   ]
  },
  {
   "cell_type": "code",
   "execution_count": null,
   "id": "fcda87fc",
   "metadata": {},
   "outputs": [],
   "source": [
    "expanding_forecast_df"
   ]
  },
  {
   "cell_type": "code",
   "execution_count": null,
   "id": "24b0bcf5",
   "metadata": {},
   "outputs": [],
   "source": [
    "hw_outs_exp_df = expanding_forecast_df.copy()\n",
    "hw_outs_exp_df"
   ]
  },
  {
   "cell_type": "markdown",
   "id": "c1fc5e58",
   "metadata": {},
   "source": [
    "##### "
   ]
  },
  {
   "cell_type": "code",
   "execution_count": null,
   "id": "2f78934f",
   "metadata": {},
   "outputs": [],
   "source": [
    "pd.concat([hw_insample_df, hw_outs_exp_df])[['Y_Predicted']]"
   ]
  },
  {
   "cell_type": "code",
   "execution_count": null,
   "id": "e92fbc15",
   "metadata": {},
   "outputs": [],
   "source": [
    "df_hw_opt_exp = pd.concat([hw_insample_df, hw_outs_exp_df])\n",
    "df_hw_opt_exp = df_hw_opt_exp[['Y_Predicted']]\n",
    "df_hw_opt_exp"
   ]
  },
  {
   "cell_type": "code",
   "execution_count": null,
   "id": "52c52dc2",
   "metadata": {},
   "outputs": [],
   "source": [
    "df_hw = pd.concat([df_hw, df_hw_opt_exp], axis=1)\n",
    "df_hw"
   ]
  },
  {
   "cell_type": "code",
   "execution_count": null,
   "id": "80d2d34d",
   "metadata": {},
   "outputs": [],
   "source": [
    "df_hw.rename(columns={'Y_Predicted':'HW Optimal + Expanding Window'}, inplace=True)"
   ]
  },
  {
   "cell_type": "code",
   "execution_count": null,
   "id": "9902d488",
   "metadata": {},
   "outputs": [],
   "source": [
    "df_hw"
   ]
  },
  {
   "cell_type": "code",
   "execution_count": null,
   "id": "1de191dc",
   "metadata": {},
   "outputs": [],
   "source": [
    "plt.figure(figsize=(10,5))\n",
    "plt.plot(df_hw['Aktual'], label='Data Aktual', marker='.')\n",
    "plt.plot(df_hw['HW Optimal + Expanding Window'], label='Data Peramalan', marker='.')\n",
    "\n",
    "plt.axvline(pd.Timestamp('2023-12-01'), linestyle='--', color='k', alpha=0.5)\n",
    "plt.title(\"Peramalan Sales dengan Holt-Winters Exponential Smoothing\")\n",
    "plt.xlabel('Month')\n",
    "plt.ylabel(\"Sales\")\n",
    "plt.legend(loc='upper right')\n",
    "plt.tight_layout()\n",
    "plt.show()"
   ]
  },
  {
   "cell_type": "markdown",
   "id": "b6e52bb8",
   "metadata": {},
   "source": [
    "##### "
   ]
  },
  {
   "cell_type": "markdown",
   "id": "f779b7e4",
   "metadata": {},
   "source": [
    "#### HW Residual"
   ]
  },
  {
   "cell_type": "code",
   "execution_count": null,
   "id": "9eae2381",
   "metadata": {},
   "outputs": [],
   "source": [
    "hw_insample_df['Residual'] = hw_insample_df['Y_Actual'] - hw_insample_df['Y_Predicted']\n",
    "hw_insample_df"
   ]
  },
  {
   "cell_type": "code",
   "execution_count": null,
   "id": "22f48e80",
   "metadata": {},
   "outputs": [],
   "source": [
    "plt.figure(figsize=(10,5))\n",
    "plt.plot(hw_insample_df['Y_Actual'], label='Data Aktual', marker='.')\n",
    "plt.plot(hw_insample_df['Y_Predicted'], label='Data Peramalan', marker='.')\n",
    "\n",
    "plt.axvline(pd.Timestamp('2023-12-01'), linestyle='--', color='k', alpha=0.5)\n",
    "plt.title(\"Peramalan In-Sample dengan Model Holt-Winters Optimal\")\n",
    "plt.xlabel('Month')\n",
    "plt.ylabel(\"Sales\")\n",
    "plt.legend(loc='upper right')\n",
    "plt.tight_layout()\n",
    "plt.show()"
   ]
  },
  {
   "cell_type": "code",
   "execution_count": null,
   "id": "34ab24b1",
   "metadata": {},
   "outputs": [],
   "source": [
    "hw_outs_exp_df['Residual'] = hw_outs_exp_df['Y_Actual'] - hw_outs_exp_df['Y_Predicted']\n",
    "hw_outs_exp_df"
   ]
  },
  {
   "cell_type": "code",
   "execution_count": null,
   "id": "c21b103e",
   "metadata": {},
   "outputs": [],
   "source": [
    "plt.figure(figsize=(10,5))\n",
    "plt.plot(hw_outs_exp_df['Y_Actual'], label='Data Aktual', marker='.')\n",
    "plt.plot(hw_outs_exp_df['Y_Predicted'], label='Data Peramalan', marker='.')\n",
    "\n",
    "plt.title(\"Peramalan Out-of-Sample dengan Model Holt-Winters Optimal + Expanding Window Forecast\")\n",
    "plt.xlabel('Month')\n",
    "plt.ylabel(\"Sales\")\n",
    "plt.legend(loc='upper right')\n",
    "plt.tight_layout()\n",
    "plt.show()"
   ]
  },
  {
   "cell_type": "code",
   "execution_count": null,
   "id": "fbb990ea",
   "metadata": {},
   "outputs": [],
   "source": [
    "pd.concat([hw_insample_df, hw_outs_exp_df])"
   ]
  },
  {
   "cell_type": "code",
   "execution_count": null,
   "id": "cce92ea3",
   "metadata": {},
   "outputs": [],
   "source": [
    "hw_ins_res = hw_insample_df['Residual'].reset_index(drop=True)\n",
    "hw_outs_res = hw_outs_exp_df['Residual'].reset_index(drop=True)"
   ]
  },
  {
   "cell_type": "code",
   "execution_count": null,
   "id": "5b6a7d82",
   "metadata": {},
   "outputs": [],
   "source": [
    "hw_ins_res"
   ]
  },
  {
   "cell_type": "code",
   "execution_count": null,
   "id": "a0c91e86",
   "metadata": {},
   "outputs": [],
   "source": [
    "hw_outs_res"
   ]
  },
  {
   "cell_type": "code",
   "execution_count": null,
   "id": "71598b0c",
   "metadata": {},
   "outputs": [],
   "source": [
    "hw_res = pd.concat([hw_insample_df['Residual'], hw_outs_exp_df['Residual']])"
   ]
  },
  {
   "cell_type": "code",
   "execution_count": null,
   "id": "1bf958b7",
   "metadata": {},
   "outputs": [],
   "source": [
    "hw_res"
   ]
  },
  {
   "cell_type": "code",
   "execution_count": null,
   "id": "87c0f41e",
   "metadata": {},
   "outputs": [],
   "source": [
    "plt.figure(figsize=(10,4))\n",
    "sns.lineplot(hw_res, marker='o', label='Residual')\n",
    "\n",
    "plt.legend(loc='upper right')\n",
    "plt.tight_layout()\n",
    "plt.show()"
   ]
  },
  {
   "cell_type": "markdown",
   "id": "5bc53f91",
   "metadata": {},
   "source": [
    "##### "
   ]
  },
  {
   "cell_type": "code",
   "execution_count": null,
   "id": "7ebf841d",
   "metadata": {},
   "outputs": [],
   "source": [
    "df_hw['Residual HW'] = hw_res\n",
    "df_hw"
   ]
  },
  {
   "cell_type": "code",
   "execution_count": null,
   "id": "4186d804",
   "metadata": {},
   "outputs": [],
   "source": [
    "df_hw.to_excel('Holt-Winters Dataframe.xlsx')"
   ]
  },
  {
   "cell_type": "markdown",
   "id": "eb46d664",
   "metadata": {},
   "source": [
    "##### "
   ]
  },
  {
   "cell_type": "markdown",
   "id": "c7284696",
   "metadata": {},
   "source": [
    "# Feature Selection"
   ]
  },
  {
   "cell_type": "markdown",
   "id": "85cbc620",
   "metadata": {},
   "source": [
    "## Feature Importance"
   ]
  },
  {
   "cell_type": "markdown",
   "id": "27de0d0b",
   "metadata": {},
   "source": [
    "#### Prep"
   ]
  },
  {
   "cell_type": "code",
   "execution_count": null,
   "id": "107b0066",
   "metadata": {},
   "outputs": [],
   "source": [
    "from sklearn.ensemble import RandomForestRegressor\n",
    "from sklearn.tree import export_text\n",
    "from sklearn.tree import plot_tree\n",
    "from sklearn.tree import export_graphviz\n",
    "import graphviz"
   ]
  },
  {
   "cell_type": "code",
   "execution_count": null,
   "id": "026c27f7",
   "metadata": {},
   "outputs": [],
   "source": [
    "lags = [1,2,3]"
   ]
  },
  {
   "cell_type": "code",
   "execution_count": null,
   "id": "3e1cd4db",
   "metadata": {},
   "outputs": [],
   "source": [
    "df_full['HW Residual'] = hw_res.reset_index(drop=True)"
   ]
  },
  {
   "cell_type": "markdown",
   "id": "345a15ef",
   "metadata": {},
   "source": [
    "### Random Forest"
   ]
  },
  {
   "cell_type": "markdown",
   "id": "6c9cd02e",
   "metadata": {},
   "source": [
    "#### Data Preparation for Feat. Importance"
   ]
  },
  {
   "cell_type": "code",
   "execution_count": null,
   "id": "0a61df46",
   "metadata": {},
   "outputs": [],
   "source": [
    "df_RF = df_full.drop(columns='Month').copy()"
   ]
  },
  {
   "cell_type": "code",
   "execution_count": null,
   "id": "9831a9d4",
   "metadata": {},
   "outputs": [],
   "source": [
    "df_RF.columns[0:-1]"
   ]
  },
  {
   "cell_type": "code",
   "execution_count": null,
   "id": "ed3fc19d",
   "metadata": {},
   "outputs": [],
   "source": [
    "for col in df_RF.columns[0:-1]:\n",
    "    for lag in lags:\n",
    "        df_RF[f'{col}_lag{lag}'] = df_RF[col].shift(lag)"
   ]
  },
  {
   "cell_type": "code",
   "execution_count": null,
   "id": "fa846541",
   "metadata": {},
   "outputs": [],
   "source": [
    "df_RF"
   ]
  },
  {
   "cell_type": "code",
   "execution_count": null,
   "id": "3dc4c468",
   "metadata": {},
   "outputs": [],
   "source": [
    "df_RF.isna().sum()"
   ]
  },
  {
   "cell_type": "code",
   "execution_count": null,
   "id": "de882701",
   "metadata": {},
   "outputs": [],
   "source": [
    "df_RF['Inflasi_lag1'].fillna(inflasi.iloc[11]['Inflasi Transportasi'], inplace=True)\n",
    "df_RF['Inflasi_lag2'].fillna(inflasi.iloc[10:12].reset_index()['Inflasi Transportasi'], inplace=True)\n",
    "df_RF['Inflasi_lag3'].fillna(inflasi.iloc[9:12].reset_index()['Inflasi Transportasi'], inplace=True)\n",
    "\n",
    "df_RF['IHK_lag1'].fillna(ihk.iloc[11]['Indeks Harga Konsumen'], inplace=True)\n",
    "df_RF['IHK_lag2'].fillna(ihk.iloc[10:12].reset_index()['Indeks Harga Konsumen'], inplace=True)\n",
    "df_RF['IHK_lag3'].fillna(ihk.iloc[9:12].reset_index()['Indeks Harga Konsumen'], inplace=True)\n",
    "\n",
    "df_RF[\"'Harga Produk X'_lag1\"].fillna(Harga_Produk_X.iloc[23]['Harga Produk_X: (East Java)'], inplace=True)\n",
    "df_RF[\"'Harga Produk X'_lag2\"].fillna(Harga_Produk_X.iloc[22:24].reset_index()['Harga Produk_X: (East Java)'], inplace=True)\n",
    "df_RF[\"'Harga Produk X'_lag3\"].fillna(Harga_Produk_X.iloc[21:24].reset_index()['Harga Produk_X: (East Java)'], inplace=True)\n",
    "\n",
    "df_RF[\"'Harga Produk X (+merek)'_lag1\"].fillna(Harga_Produk_X_merek.iloc[23]['Harga Produk_X (+merek): (East Java)'], inplace=True)\n",
    "df_RF[\"'Harga Produk X (+merek)'_lag2\"].fillna(Harga_Produk_X_merek.iloc[22:24].reset_index()['Harga Produk_X (+merek): (East Java)'], inplace=True)\n",
    "df_RF[\"'Harga Produk X (+merek)'_lag3\"].fillna(Harga_Produk_X_merek.iloc[21:24].reset_index()['Harga Produk_X (+merek): (East Java)'], inplace=True)\n",
    "\n",
    "df_RF[\"'Produk X'_lag1\"].fillna(Produk_X_search.iloc[23]['Produk_X search: (East Java)'], inplace=True)\n",
    "df_RF[\"'Produk X'_lag2\"].fillna(Produk_X_search.iloc[22:24].reset_index()['Produk_X search: (East Java)'], inplace=True)\n",
    "df_RF[\"'Produk X'_lag3\"].fillna(Produk_X_search.iloc[21:24].reset_index()['Produk_X search: (East Java)'], inplace=True)\n",
    "\n",
    "df_RF[\"'Perusahaan Z malang'_lag1\"].fillna(malang.iloc[23]['Perusahaan_Z malang: (East Java)'], inplace=True)\n",
    "df_RF[\"'Perusahaan Z malang'_lag2\"].fillna(malang.iloc[22:24].reset_index()['Perusahaan_Z malang: (East Java)'], inplace=True)\n",
    "df_RF[\"'Perusahaan Z malang'_lag3\"].fillna(malang.iloc[21:24].reset_index()['Perusahaan_Z malang: (East Java)'], inplace=True)\n",
    "\n",
    "df_RF[\"'Perusahaan Z'_lag1\"].fillna(Perusahaan_Z.iloc[23]['Perusahaan_Z: (East Java)'], inplace=True)\n",
    "df_RF[\"'Perusahaan Z'_lag2\"].fillna(Perusahaan_Z.iloc[22:24].reset_index()['Perusahaan_Z: (East Java)'], inplace=True)\n",
    "df_RF[\"'Perusahaan Z'_lag3\"].fillna(Perusahaan_Z.iloc[21:24].reset_index()['Perusahaan_Z: (East Java)'], inplace=True)\n",
    "\n",
    "df_RF['Penjualan Produk X_lag1'].fillna(sales.iloc[35]['Produk_X'], inplace=True)\n",
    "df_RF['Penjualan Produk X_lag2'].fillna(sales.iloc[34:36].reset_index()['Produk_X'], inplace=True)\n",
    "df_RF['Penjualan Produk X_lag3'].fillna(sales.iloc[33:36].reset_index()['Produk_X'], inplace=True)"
   ]
  },
  {
   "cell_type": "code",
   "execution_count": null,
   "id": "4fa2cf55",
   "metadata": {},
   "outputs": [],
   "source": [
    "df_RF.isna().sum()"
   ]
  },
  {
   "cell_type": "code",
   "execution_count": null,
   "id": "2bc3a3ad",
   "metadata": {},
   "outputs": [],
   "source": [
    "df_RF.info()"
   ]
  },
  {
   "cell_type": "code",
   "execution_count": null,
   "id": "980f7df6",
   "metadata": {},
   "outputs": [],
   "source": [
    "X_RF = df_RF.drop(columns=['Penjualan Produk X', 'HW Residual'])"
   ]
  },
  {
   "cell_type": "code",
   "execution_count": null,
   "id": "c2935acd",
   "metadata": {},
   "outputs": [],
   "source": [
    "X_RF_train, X_RF_test = X_RF.iloc[:120], X_RF.iloc[120:]\n",
    "Y_RF_train, Y_RF_test = hw_ins_res, hw_outs_res"
   ]
  },
  {
   "cell_type": "code",
   "execution_count": null,
   "id": "528c0505",
   "metadata": {},
   "outputs": [],
   "source": [
    "X_RF_train"
   ]
  },
  {
   "cell_type": "code",
   "execution_count": null,
   "id": "85e9f568",
   "metadata": {},
   "outputs": [],
   "source": [
    "X_RF_test"
   ]
  },
  {
   "cell_type": "code",
   "execution_count": null,
   "id": "af51c3c9",
   "metadata": {},
   "outputs": [],
   "source": [
    "Y_RF_train"
   ]
  },
  {
   "cell_type": "code",
   "execution_count": null,
   "id": "c69fb49e",
   "metadata": {},
   "outputs": [],
   "source": [
    "Y_RF_test"
   ]
  },
  {
   "cell_type": "code",
   "execution_count": null,
   "id": "2d12f2e4",
   "metadata": {},
   "outputs": [],
   "source": [
    "RF = RandomForestRegressor(n_estimators=100, random_state=42)\n",
    "RF.fit(X_RF_train, Y_RF_train)"
   ]
  },
  {
   "cell_type": "code",
   "execution_count": null,
   "id": "afa21006",
   "metadata": {},
   "outputs": [],
   "source": [
    "import os\n",
    "os.environ[\"PATH\"] += os.pathsep + r\"C:\\Program Files\\Graphviz\\bin\""
   ]
  },
  {
   "cell_type": "code",
   "execution_count": null,
   "id": "676ae540",
   "metadata": {},
   "outputs": [],
   "source": [
    "def tree_structure(model, tree_index=0):\n",
    "    dot_data = export_graphviz(model.estimators_[tree_index],\n",
    "                               out_file=None,\n",
    "                               feature_names=model.feature_names_in_,\n",
    "                               filled=True,\n",
    "                               rounded=True,\n",
    "                               special_characters=True)\n",
    "\n",
    "    # Render using graphviz\n",
    "    graph = graphviz.Source(dot_data)\n",
    "    graph.render(f\"Tree {tree_index} Structure\", format='png', cleanup=False)  # Saves as tree0.png\n",
    "    graph.view()  # Opens the image"
   ]
  },
  {
   "cell_type": "code",
   "execution_count": null,
   "id": "159bc2e4",
   "metadata": {},
   "outputs": [],
   "source": [
    "RF_importances = RF.feature_importances_\n",
    "feature = X_RF.columns"
   ]
  },
  {
   "cell_type": "code",
   "execution_count": null,
   "id": "f97ace89",
   "metadata": {},
   "outputs": [],
   "source": [
    "feature_importance_RF = pd.DataFrame({'Feature' : feature,\n",
    "                                      'RF Importance' : RF_importances})\n",
    "feature_importance_RF.sort_values(by='RF Importance', ascending=False, inplace=True)\n",
    "feature_importance_RF"
   ]
  },
  {
   "cell_type": "code",
   "execution_count": null,
   "id": "ac0136c8",
   "metadata": {},
   "outputs": [],
   "source": [
    "plt.figure(figsize=(10, 6))\n",
    "ax = sns.barplot(data=feature_importance_RF,\n",
    "            x='RF Importance',\n",
    "            y='Feature',\n",
    "            palette=\"Blues_r\")\n",
    "\n",
    "for index, value in enumerate(feature_importance_RF[\"RF Importance\"]):\n",
    "    ax.text(value, index, f\"{value:.3f}\", va='center', fontsize=10)\n",
    "\n",
    "plt.axvline(0.02, linestyle='--', c='r')\n",
    "plt.axvline(0.05, linestyle='--', c='g')\n",
    "plt.xlabel(\"Feature Importance\")\n",
    "plt.ylabel(\"Features\")\n",
    "plt.title(\"Feature Importance from Random Forest\")\n",
    "plt.show()"
   ]
  },
  {
   "cell_type": "code",
   "execution_count": null,
   "id": "651e8c83",
   "metadata": {},
   "outputs": [],
   "source": [
    "plt.figure(figsize=(10, 6))\n",
    "ax = sns.barplot(data=feature_importance_RF.head(10),\n",
    "            x='RF Importance',\n",
    "            y='Feature',\n",
    "            palette=\"Blues_r\")\n",
    "\n",
    "for index, value in enumerate(feature_importance_RF.head(10)[\"RF Importance\"]):\n",
    "    ax.text(value, index, f\"{value:.3f}\", va='center', fontsize=10)\n",
    "\n",
    "plt.axvline(0.02, linestyle='--', c='r')\n",
    "plt.axvline(0.05, linestyle='--', c='g')\n",
    "plt.xlabel(\"Feature Importance\")\n",
    "plt.ylabel(\"Features\")\n",
    "plt.title(\"Feature Importance from Random Forest\")\n",
    "plt.show()"
   ]
  },
  {
   "cell_type": "markdown",
   "id": "a254781e",
   "metadata": {},
   "source": [
    "#### Feature Importance using SHAP"
   ]
  },
  {
   "cell_type": "code",
   "execution_count": null,
   "id": "90e20787",
   "metadata": {},
   "outputs": [],
   "source": [
    "import shap"
   ]
  },
  {
   "cell_type": "code",
   "execution_count": null,
   "id": "491a6074",
   "metadata": {},
   "outputs": [],
   "source": [
    "explainer = shap.TreeExplainer(RF)\n",
    "shap_values = explainer.shap_values(X_RF_train)"
   ]
  },
  {
   "cell_type": "code",
   "execution_count": null,
   "id": "fb64decf",
   "metadata": {},
   "outputs": [],
   "source": [
    "shap_df = pd.DataFrame(shap_values, columns=X_RF_train.columns)\n",
    "mean_abs_shap = shap_df.abs().mean().sort_values(ascending=False)\n",
    "mean_abs_shap.head(10)"
   ]
  },
  {
   "cell_type": "code",
   "execution_count": null,
   "id": "bf569d5e",
   "metadata": {},
   "outputs": [],
   "source": [
    "shap_df"
   ]
  },
  {
   "cell_type": "code",
   "execution_count": null,
   "id": "d01d52b0",
   "metadata": {},
   "outputs": [],
   "source": [
    "shap_df.to_excel('SHAP Values.xlsx')"
   ]
  },
  {
   "cell_type": "code",
   "execution_count": null,
   "id": "7326ce34",
   "metadata": {},
   "outputs": [],
   "source": [
    "shap_df[\"'Perusahaan Z'_lag1\"].abs().sum()"
   ]
  },
  {
   "cell_type": "code",
   "execution_count": null,
   "id": "70ec11bb",
   "metadata": {},
   "outputs": [],
   "source": [
    "mean_abs_shap = mean_abs_shap.reset_index()"
   ]
  },
  {
   "cell_type": "code",
   "execution_count": null,
   "id": "ced28805",
   "metadata": {},
   "outputs": [],
   "source": [
    "mean_abs_shap.columns = ['Feature', 'MASV']\n",
    "mean_abs_shap"
   ]
  },
  {
   "cell_type": "code",
   "execution_count": null,
   "id": "11e76306",
   "metadata": {},
   "outputs": [],
   "source": [
    "plt.figure(figsize=(10, 6))\n",
    "ax = sns.barplot(data=mean_abs_shap.head(10),\n",
    "            x='MASV',\n",
    "            y='Feature',\n",
    "            palette=\"Greens_r\")\n",
    "\n",
    "for index, value in enumerate(mean_abs_shap.head(10)[\"MASV\"]):\n",
    "    ax.text(value, index, f\"{value:.3f}\", va='center', fontsize=10)\n",
    "\n",
    "plt.xlabel(\"MASV\")\n",
    "plt.ylabel(\"Features\")\n",
    "plt.title(\"Mean Absolute SHAP Value\")\n",
    "plt.show()"
   ]
  },
  {
   "cell_type": "code",
   "execution_count": null,
   "id": "c5ba64fb",
   "metadata": {},
   "outputs": [],
   "source": [
    "reduced_feature = [\"'Perusahaan Z'_lag1\", 'Inflasi_lag1', \"'Produk X'_lag1\",\n",
    "                   'Inflasi', \"'Harga Produk X'_lag2\", 'Inflasi_lag2',\n",
    "                   \"'Harga Produk X (+merek)'_lag1\", 'Penjualan Produk X_lag3', \"'Harga Produk X'_lag3\",\n",
    "                    \"'Perusahaan Z malang'_lag3\"]"
   ]
  },
  {
   "cell_type": "code",
   "execution_count": null,
   "id": "44d33010",
   "metadata": {},
   "outputs": [],
   "source": [
    "X_RF_train_red = X_RF_train[reduced_feature]\n",
    "X_RF_train_red"
   ]
  },
  {
   "cell_type": "code",
   "execution_count": null,
   "id": "73d97a90",
   "metadata": {},
   "outputs": [],
   "source": [
    "X_RF_test_red = X_RF_test[reduced_feature]\n",
    "X_RF_test_red"
   ]
  },
  {
   "cell_type": "markdown",
   "id": "5c2b6605",
   "metadata": {},
   "source": [
    "# "
   ]
  },
  {
   "cell_type": "markdown",
   "id": "25bffb2d",
   "metadata": {},
   "source": [
    "### Feature Importance with Reduced Data"
   ]
  },
  {
   "cell_type": "code",
   "execution_count": null,
   "id": "ab351a48",
   "metadata": {
    "scrolled": false
   },
   "outputs": [],
   "source": [
    "X_RF_train_red.head()"
   ]
  },
  {
   "cell_type": "code",
   "execution_count": null,
   "id": "5f76065f",
   "metadata": {},
   "outputs": [],
   "source": [
    "RF.fit(X_RF_train_red, Y_RF_train)"
   ]
  },
  {
   "cell_type": "code",
   "execution_count": null,
   "id": "d6c7ab22",
   "metadata": {},
   "outputs": [],
   "source": [
    "RF_red_importances = RF.feature_importances_\n",
    "feature_red = X_RF_train_red.columns"
   ]
  },
  {
   "cell_type": "code",
   "execution_count": null,
   "id": "2995a10e",
   "metadata": {},
   "outputs": [],
   "source": [
    "feature_importance_RF_red = pd.DataFrame({'Feature' : feature_red,\n",
    "                                          'RF Importance (reduced)' : RF_red_importances})\n",
    "feature_importance_RF_red.sort_values(by='RF Importance (reduced)', ascending=False, inplace=True)\n",
    "feature_importance_RF_red"
   ]
  },
  {
   "cell_type": "code",
   "execution_count": null,
   "id": "7ae19bfa",
   "metadata": {
    "scrolled": false
   },
   "outputs": [],
   "source": [
    "plt.figure(figsize=(10, 6))\n",
    "ax = sns.barplot(data=feature_importance_RF_red,\n",
    "            x='RF Importance (reduced)',\n",
    "            y='Feature',\n",
    "            palette=\"Blues_r\")\n",
    "\n",
    "for index, value in enumerate(feature_importance_RF_red[\"RF Importance (reduced)\"]):\n",
    "    ax.text(value, index, f\"{value:.3f}\", va='center', fontsize=10)\n",
    "\n",
    "plt.axvline(0.02, linestyle='--', c='r')\n",
    "plt.axvline(0.05, linestyle='--', c='g')\n",
    "plt.xlabel(\"Feature Importance\")\n",
    "plt.ylabel(\"Features\")\n",
    "plt.title(\"Feature Importance with Reduced Data using Random Forest\")\n",
    "plt.show()"
   ]
  },
  {
   "cell_type": "markdown",
   "id": "06d465de",
   "metadata": {},
   "source": [
    "##### "
   ]
  },
  {
   "cell_type": "markdown",
   "id": "2c52e629",
   "metadata": {},
   "source": [
    "# Data Preprocessing"
   ]
  },
  {
   "cell_type": "markdown",
   "id": "9323c76d",
   "metadata": {},
   "source": [
    "## Feature Engineering (for RF)"
   ]
  },
  {
   "cell_type": "code",
   "execution_count": null,
   "id": "7551a7b0",
   "metadata": {},
   "outputs": [],
   "source": [
    "X_RF_test_red = X_RF_test_red.reset_index(drop=True)\n",
    "X_RF_test_red"
   ]
  },
  {
   "cell_type": "markdown",
   "id": "c5964141",
   "metadata": {},
   "source": [
    "#### 'Month' Feature"
   ]
  },
  {
   "cell_type": "code",
   "execution_count": null,
   "id": "8f8109ea",
   "metadata": {},
   "outputs": [],
   "source": [
    "X_RF_train_red['Month'] = df_full['Month'].iloc[:120].reset_index(drop=True).dt.month.copy()"
   ]
  },
  {
   "cell_type": "code",
   "execution_count": null,
   "id": "f6b1ae46",
   "metadata": {},
   "outputs": [],
   "source": [
    "X_RF_test_red['Month'] = df_full['Month'].tail(14).reset_index(drop=True).dt.month.copy()"
   ]
  },
  {
   "cell_type": "code",
   "execution_count": null,
   "id": "1ada6896",
   "metadata": {},
   "outputs": [],
   "source": [
    "X_RF_train_red.head()"
   ]
  },
  {
   "cell_type": "code",
   "execution_count": null,
   "id": "02dab2ba",
   "metadata": {},
   "outputs": [],
   "source": [
    "X_RF_test_red.head()"
   ]
  },
  {
   "cell_type": "markdown",
   "id": "fcc5fed3",
   "metadata": {},
   "source": [
    "#### 'Desember' Feature"
   ]
  },
  {
   "cell_type": "markdown",
   "id": "2f9a7686",
   "metadata": {},
   "source": [
    "Hasil dari decomposition menunjukkan adanya 'spike' atau lonjakan penjualan hampir di setiap tahun yang hampir selalu terjadi di bulan Desember, sehingga akan ditambahkan kolom 'Desember' untuk merepresentasikan fenomena tersebut."
   ]
  },
  {
   "cell_type": "code",
   "execution_count": null,
   "id": "03e8a4c2",
   "metadata": {},
   "outputs": [],
   "source": [
    "X_RF_train_red['Desember'] = X_RF_train_red['Month'].apply(lambda x: 1 if x == 12 else 0)"
   ]
  },
  {
   "cell_type": "code",
   "execution_count": null,
   "id": "8532b844",
   "metadata": {},
   "outputs": [],
   "source": [
    "X_RF_train_red.tail()"
   ]
  },
  {
   "cell_type": "code",
   "execution_count": null,
   "id": "712870bb",
   "metadata": {},
   "outputs": [],
   "source": [
    "X_RF_test_red['Desember'] = X_RF_test_red['Month'].apply(lambda x: 1 if x == 12 else 0)"
   ]
  },
  {
   "cell_type": "code",
   "execution_count": null,
   "id": "4e80f3a7",
   "metadata": {},
   "outputs": [],
   "source": [
    "X_RF_test_red.tail()"
   ]
  },
  {
   "cell_type": "markdown",
   "id": "e552cac0",
   "metadata": {},
   "source": [
    "#### 'Year' Feature"
   ]
  },
  {
   "cell_type": "markdown",
   "id": "a8b49697",
   "metadata": {},
   "source": [
    "Fitur ini ditambahkan karena adanya tren penurunan dari tahun-tahun terdahulu sampai tahun terkini."
   ]
  },
  {
   "cell_type": "code",
   "execution_count": null,
   "id": "d21b3f72",
   "metadata": {},
   "outputs": [],
   "source": [
    "X_RF_train_red['Year'] = df_full['Month'].dt.year.iloc[:120].reset_index(drop=True)"
   ]
  },
  {
   "cell_type": "code",
   "execution_count": null,
   "id": "fab25301",
   "metadata": {},
   "outputs": [],
   "source": [
    "X_RF_train_red.head()"
   ]
  },
  {
   "cell_type": "code",
   "execution_count": null,
   "id": "6c4c4601",
   "metadata": {},
   "outputs": [],
   "source": [
    "X_RF_test_red['Year'] = df_full['Month'].dt.year.tail(14).reset_index(drop=True)"
   ]
  },
  {
   "cell_type": "code",
   "execution_count": null,
   "id": "393693fc",
   "metadata": {},
   "outputs": [],
   "source": [
    "X_RF_test_red.tail()"
   ]
  },
  {
   "cell_type": "code",
   "execution_count": null,
   "id": "c3842b84",
   "metadata": {},
   "outputs": [],
   "source": [
    "X_RF_train_red.shape"
   ]
  },
  {
   "cell_type": "markdown",
   "id": "1f9193ab",
   "metadata": {},
   "source": [
    "Jumlah fitur terlalu banyak untuk dataset dengan 120 data points, sehingga fitur akan dikurangi."
   ]
  },
  {
   "cell_type": "code",
   "execution_count": null,
   "id": "c41963b0",
   "metadata": {},
   "outputs": [],
   "source": [
    "RF_FE = RandomForestRegressor(n_estimators=100, random_state=42)\n",
    "RF_FE.fit(X_RF_train_red, Y_RF_train)"
   ]
  },
  {
   "cell_type": "code",
   "execution_count": null,
   "id": "20bbb86f",
   "metadata": {},
   "outputs": [],
   "source": [
    "RF_FE_importances = RF_FE.feature_importances_\n",
    "feature = X_RF_train_red.columns"
   ]
  },
  {
   "cell_type": "code",
   "execution_count": null,
   "id": "bc750053",
   "metadata": {},
   "outputs": [],
   "source": [
    "feature_importance_RF_FE = pd.DataFrame({'Feature' : feature,\n",
    "                                      'RF Importance' : RF_FE_importances})\n",
    "feature_importance_RF_FE.sort_values(by='RF Importance', ascending=False, inplace=True)\n",
    "feature_importance_RF_FE"
   ]
  },
  {
   "cell_type": "code",
   "execution_count": null,
   "id": "645c4683",
   "metadata": {},
   "outputs": [],
   "source": [
    "plt.figure(figsize=(10, 6))\n",
    "ax = sns.barplot(data=feature_importance_RF_FE,\n",
    "            x='RF Importance',\n",
    "            y='Feature',\n",
    "            palette=\"Blues_r\")\n",
    "\n",
    "for index, value in enumerate(feature_importance_RF_FE[\"RF Importance\"]):\n",
    "    ax.text(value, index, f\"{value:.3f}\", va='center', fontsize=10)\n",
    "\n",
    "plt.axvline(0.02, linestyle='--', c='r')\n",
    "plt.axvline(0.05, linestyle='--', c='g')\n",
    "plt.xlabel(\"Feature Importance\")\n",
    "plt.ylabel(\"Features\")\n",
    "plt.title(\"Feature Importance from Random Forest\")\n",
    "plt.show()"
   ]
  },
  {
   "cell_type": "markdown",
   "id": "1644f801",
   "metadata": {},
   "source": [
    "#### Feature Importance using SHAP"
   ]
  },
  {
   "cell_type": "code",
   "execution_count": null,
   "id": "01a7d8da",
   "metadata": {},
   "outputs": [],
   "source": [
    "explainer_FE = shap.TreeExplainer(RF_FE)\n",
    "shap_values_FE = explainer_FE.shap_values(X_RF_train_red)"
   ]
  },
  {
   "cell_type": "code",
   "execution_count": null,
   "id": "ce4a2bca",
   "metadata": {},
   "outputs": [],
   "source": [
    "shap_FE_df = pd.DataFrame(shap_values_FE, columns=X_RF_train_red.columns)\n",
    "mean_abs_shap = shap_FE_df.abs().mean().sort_values(ascending=False)\n",
    "mean_abs_shap"
   ]
  },
  {
   "cell_type": "code",
   "execution_count": null,
   "id": "0286c732",
   "metadata": {},
   "outputs": [],
   "source": [
    "shap_df.head()"
   ]
  },
  {
   "cell_type": "code",
   "execution_count": null,
   "id": "1174b1fa",
   "metadata": {},
   "outputs": [],
   "source": [
    "mean_abs_shap = mean_abs_shap.reset_index()"
   ]
  },
  {
   "cell_type": "code",
   "execution_count": null,
   "id": "015c99c4",
   "metadata": {},
   "outputs": [],
   "source": [
    "mean_abs_shap.columns = ['Feature', 'MASV']\n",
    "mean_abs_shap"
   ]
  },
  {
   "cell_type": "code",
   "execution_count": null,
   "id": "99c7b28c",
   "metadata": {},
   "outputs": [],
   "source": [
    "plt.figure(figsize=(10, 6))\n",
    "ax = sns.barplot(data=mean_abs_shap,\n",
    "            x='MASV',\n",
    "            y='Feature',\n",
    "            palette=\"Greens_r\")\n",
    "\n",
    "for index, value in enumerate(mean_abs_shap[\"MASV\"]):\n",
    "    ax.text(value, index, f\"{value:.3f}\", va='center', fontsize=10)\n",
    "\n",
    "plt.xlabel(\"MASV\")\n",
    "plt.ylabel(\"Features\")\n",
    "plt.title(\"Mean Absolute SHAP Value\")\n",
    "plt.show()"
   ]
  },
  {
   "cell_type": "code",
   "execution_count": null,
   "id": "aa9855e0",
   "metadata": {},
   "outputs": [],
   "source": [
    "final_feat = [\"'Perusahaan Z'_lag1\", 'Penjualan Produk X_lag3', 'Inflasi_lag1', \n",
    "              'Inflasi', \"'Harga Produk X (+merek)'_lag1\", \"'Harga Produk X'_lag2\", \n",
    "              'Inflasi_lag2', \"'Produk X'_lag1\", \"'Perusahaan Z malang'_lag3\", \"'Harga Produk X'_lag3\"]"
   ]
  },
  {
   "cell_type": "code",
   "execution_count": null,
   "id": "3a9a888b",
   "metadata": {},
   "outputs": [],
   "source": [
    "X_RF_train_red = X_RF_train_red[final_feat]\n",
    "X_RF_test_red = X_RF_test_red[final_feat]"
   ]
  },
  {
   "cell_type": "markdown",
   "id": "1787b2e5",
   "metadata": {},
   "source": [
    "##### "
   ]
  },
  {
   "cell_type": "markdown",
   "id": "5b138c0e",
   "metadata": {},
   "source": [
    "# Residual Modeling (Random Forest)"
   ]
  },
  {
   "cell_type": "markdown",
   "id": "80780681",
   "metadata": {},
   "source": [
    "## Prep"
   ]
  },
  {
   "cell_type": "code",
   "execution_count": null,
   "id": "eae90c16",
   "metadata": {},
   "outputs": [],
   "source": [
    "X_RF_train_red.head()"
   ]
  },
  {
   "cell_type": "code",
   "execution_count": null,
   "id": "e4370755",
   "metadata": {},
   "outputs": [],
   "source": [
    "X_RF_test_red.tail()"
   ]
  },
  {
   "cell_type": "code",
   "execution_count": null,
   "id": "645b78a6",
   "metadata": {},
   "outputs": [],
   "source": [
    "Y_RF_train.head()"
   ]
  },
  {
   "cell_type": "code",
   "execution_count": null,
   "id": "fb8aab8a",
   "metadata": {},
   "outputs": [],
   "source": [
    "Y_RF_test.tail()"
   ]
  },
  {
   "cell_type": "markdown",
   "id": "64a84491",
   "metadata": {},
   "source": [
    "X_RF_train_red = Training predictors for Random Forest  \n",
    "X_RF_test_red = Testing predictors for Random Forest  \n",
    "Y_RF_train = Training target for Random Forest  \n",
    "Y_RF_test = Testing target for Random Forest  "
   ]
  },
  {
   "cell_type": "markdown",
   "id": "33052262",
   "metadata": {},
   "source": [
    "##### "
   ]
  },
  {
   "cell_type": "code",
   "execution_count": null,
   "id": "fd502682",
   "metadata": {},
   "outputs": [],
   "source": [
    "RF_res = RandomForestRegressor(n_estimators=100, random_state=42)\n",
    "RF_res.fit(X_RF_train_red, Y_RF_train)"
   ]
  },
  {
   "cell_type": "markdown",
   "id": "bf0faadc",
   "metadata": {},
   "source": [
    "##### tree_structure(RF_res, 2)"
   ]
  },
  {
   "cell_type": "code",
   "execution_count": null,
   "id": "d62a0fb6",
   "metadata": {},
   "outputs": [],
   "source": [
    "RF_res_ins = RF_res.predict(X_RF_train_red)\n",
    "RF_res_outs = RF_res.predict(X_RF_test_red)"
   ]
  },
  {
   "cell_type": "code",
   "execution_count": null,
   "id": "e21ffa1f",
   "metadata": {},
   "outputs": [],
   "source": [
    "RF_res_ins_df = pd.DataFrame({'Y_Actual': Y_RF_train,\n",
    "                              'Y_Predicted': RF_res_ins,\n",
    "                              'Date': train_date})\n",
    "\n",
    "RF_res_outs_df = pd.DataFrame({'Y_Actual': Y_RF_test,\n",
    "                               'Y_Predicted': RF_res_outs,\n",
    "                               'Date': test_date})"
   ]
  },
  {
   "cell_type": "code",
   "execution_count": null,
   "id": "e40f3859",
   "metadata": {},
   "outputs": [],
   "source": [
    "RF_res_ins_df['Y_Predicted'] = round(RF_res_ins_df['Y_Predicted']).astype(int)\n",
    "RF_res_outs_df['Y_Predicted'] = round(RF_res_outs_df['Y_Predicted']).astype(int)"
   ]
  },
  {
   "cell_type": "code",
   "execution_count": null,
   "id": "decf4fc5",
   "metadata": {},
   "outputs": [],
   "source": [
    "RF_res_ins_df.set_index(keys='Date', inplace=True)\n",
    "RF_res_outs_df.set_index(keys='Date', inplace=True)"
   ]
  },
  {
   "cell_type": "code",
   "execution_count": null,
   "id": "be6b433f",
   "metadata": {},
   "outputs": [],
   "source": [
    "RF_res_ins_df"
   ]
  },
  {
   "cell_type": "code",
   "execution_count": null,
   "id": "ed4df161",
   "metadata": {},
   "outputs": [],
   "source": [
    "plt.figure(figsize=(10,4))\n",
    "plt.xticks(rotation=90)\n",
    "sns.lineplot(data=RF_res_ins_df, marker='o')\n",
    "plt.title('In Sample Actual vs Predicted Residual Value using Random Forest')\n",
    "plt.show()"
   ]
  },
  {
   "cell_type": "code",
   "execution_count": null,
   "id": "953251ef",
   "metadata": {},
   "outputs": [],
   "source": [
    "RF_res_outs_df"
   ]
  },
  {
   "cell_type": "code",
   "execution_count": null,
   "id": "81a58c7d",
   "metadata": {},
   "outputs": [],
   "source": [
    "plt.figure(figsize=(10,4))\n",
    "plt.xticks(rotation=90)\n",
    "sns.lineplot(data=RF_res_outs_df, marker='o')\n",
    "plt.title('Out of Sample Actual vs Predicted Residual Value using Random Forest')\n",
    "plt.show()"
   ]
  },
  {
   "cell_type": "code",
   "execution_count": null,
   "id": "20ecf714",
   "metadata": {},
   "outputs": [],
   "source": [
    "RF_res_ins_mae = mean_absolute_error(RF_res_ins_df['Y_Actual'], RF_res_ins_df['Y_Predicted'])\n",
    "print(f'RF Performance (In Sample) - MAE: {RF_res_ins_mae}')"
   ]
  },
  {
   "cell_type": "code",
   "execution_count": null,
   "id": "189af61f",
   "metadata": {},
   "outputs": [],
   "source": [
    "RF_res_outs_mae = mean_absolute_error(RF_res_outs_df['Y_Actual'], RF_res_outs_df['Y_Predicted'])\n",
    "print(f'RF Performance (Out of Sample) - MAE: {RF_res_outs_mae}')"
   ]
  },
  {
   "cell_type": "code",
   "execution_count": null,
   "id": "48c1b77a",
   "metadata": {},
   "outputs": [],
   "source": [
    "RF_res_ins_mae = mean_absolute_error(RF_res_ins_df['Y_Actual'], RF_res_ins_df['Y_Predicted'])\n",
    "RF_res_outs_mae = mean_absolute_error(RF_res_outs_df['Y_Actual'], RF_res_outs_df['Y_Predicted'])"
   ]
  },
  {
   "cell_type": "markdown",
   "id": "097929ee",
   "metadata": {},
   "source": [
    "##### "
   ]
  },
  {
   "cell_type": "code",
   "execution_count": null,
   "id": "8020c225",
   "metadata": {},
   "outputs": [],
   "source": [
    "df_rf_awal = pd.concat([RF_res_ins_df, RF_res_outs_df])\n",
    "df_rf_awal.rename(columns={'Y_Actual':'Aktual',\n",
    "                           'Y_Predicted':'RF Awal'}, inplace=True)\n",
    "df_rf_awal"
   ]
  },
  {
   "cell_type": "markdown",
   "id": "02da91c2",
   "metadata": {},
   "source": [
    "##### "
   ]
  },
  {
   "cell_type": "code",
   "execution_count": null,
   "id": "a519fb76",
   "metadata": {},
   "outputs": [],
   "source": [
    "res_explainer = shap.TreeExplainer(RF_res)\n",
    "res_shap_values = res_explainer.shap_values(X_RF_train_red)"
   ]
  },
  {
   "cell_type": "code",
   "execution_count": null,
   "id": "89821991",
   "metadata": {},
   "outputs": [],
   "source": [
    "res_shap_df = pd.DataFrame(res_shap_values, columns=X_RF_train_red.columns)\n",
    "res_mean_abs_shap = res_shap_df.abs().mean().sort_values(ascending=False)\n",
    "res_mean_abs_shap"
   ]
  },
  {
   "cell_type": "code",
   "execution_count": null,
   "id": "f763efd2",
   "metadata": {},
   "outputs": [],
   "source": [
    "res_shap_df.head()"
   ]
  },
  {
   "cell_type": "code",
   "execution_count": null,
   "id": "244c909a",
   "metadata": {},
   "outputs": [],
   "source": [
    "res_mean_abs_shap = res_mean_abs_shap.reset_index()"
   ]
  },
  {
   "cell_type": "code",
   "execution_count": null,
   "id": "21e83f31",
   "metadata": {},
   "outputs": [],
   "source": [
    "res_mean_abs_shap"
   ]
  },
  {
   "cell_type": "code",
   "execution_count": null,
   "id": "ed9d80f1",
   "metadata": {},
   "outputs": [],
   "source": [
    "res_mean_abs_shap.columns = ['Feature', 'MASV']\n",
    "res_mean_abs_shap"
   ]
  },
  {
   "cell_type": "code",
   "execution_count": null,
   "id": "8ee99955",
   "metadata": {},
   "outputs": [],
   "source": [
    "plt.figure(figsize=(10, 6))\n",
    "ax = sns.barplot(data=res_mean_abs_shap,\n",
    "            x='MASV',\n",
    "            y='Feature',\n",
    "            palette=\"Greens_r\")\n",
    "\n",
    "for index, value in enumerate(res_mean_abs_shap[\"MASV\"]):\n",
    "    ax.text(value, index, f\"{value:.3f}\", va='center', fontsize=10)\n",
    "\n",
    "plt.xlabel(\"MASV\")\n",
    "plt.ylabel(\"Features\")\n",
    "plt.title(\"Mean Absolute SHAP Value\")\n",
    "plt.show()"
   ]
  },
  {
   "cell_type": "markdown",
   "id": "866a5336",
   "metadata": {},
   "source": [
    "##### "
   ]
  },
  {
   "cell_type": "markdown",
   "id": "8e625379",
   "metadata": {},
   "source": [
    "# Hyperparameter Tuning (GridSearch)"
   ]
  },
  {
   "cell_type": "code",
   "execution_count": null,
   "id": "874c3383",
   "metadata": {},
   "outputs": [],
   "source": [
    "def perform_RF(X_train, X_test, Y_train, Y_test, n_estimators, max_depth, min_samples_split, min_samples_leaf, max_features):\n",
    "    RF_model = RandomForestRegressor(n_estimators=n_estimators,\n",
    "                                     max_depth=max_depth,\n",
    "                                     min_samples_split=min_samples_split,\n",
    "                                     min_samples_leaf=min_samples_leaf,\n",
    "                                     max_features=max_features, random_state=42\n",
    "                                    )\n",
    "    \n",
    "    RF_model.fit(X_train, Y_train)\n",
    "    \n",
    "    RF_model_insample = RF_model.predict(X_train)\n",
    "    RF_model_outsample = RF_model.predict(X_test)\n",
    "    \n",
    "    RF_model_insample_df = pd.DataFrame({'Y_Actual': Y_train,\n",
    "                                         'Y_Predicted': RF_model_insample,\n",
    "                                         'Date': train_date})\n",
    "    RF_model_outsample_df = pd.DataFrame({'Y_Actual': Y_test,\n",
    "                                          'Y_Predicted': RF_model_outsample,\n",
    "                                          'Date': test_date})\n",
    "        \n",
    "    RF_model_insample_df['Y_Predicted'] = round(RF_model_insample_df['Y_Predicted']).astype(int)\n",
    "    RF_model_outsample_df['Y_Predicted'] = round(RF_model_outsample_df['Y_Predicted']).astype(int)\n",
    "    \n",
    "    RF_model_insample_df.set_index(keys='Date', inplace=True)\n",
    "    RF_model_outsample_df.set_index(keys='Date', inplace=True)\n",
    "    \n",
    "    plt.figure(figsize=(10,4))\n",
    "    plt.xticks(rotation=90)\n",
    "    sns.lineplot(data=RF_model_insample_df, marker='o')\n",
    "    plt.title('In Sample Actual vs Predicted Value using RF Model')\n",
    "    plt.show()\n",
    "    \n",
    "    plt.figure(figsize=(10,4))\n",
    "    plt.xticks(rotation=90)\n",
    "    sns.lineplot(data=RF_model_outsample_df, marker='o')\n",
    "    plt.title('Out of Sample Actual vs Predicted Value using Random Forest')\n",
    "    plt.show()\n",
    "    \n",
    "    RF_model_insample_mae = mean_absolute_error(RF_model_insample_df['Y_Actual'], RF_model_insample_df['Y_Predicted'])\n",
    "    RF_model_outsample_mae = mean_absolute_error(RF_model_outsample_df['Y_Actual'], RF_model_outsample_df['Y_Predicted'])\n",
    "    \n",
    "    print(f'{n_estimators}, {max_depth}, {min_samples_split}, {min_samples_leaf}, {max_features}, random_state=42')\n",
    "    print(f'RF Model (In Sample) - MAE: {RF_model_insample_mae}')\n",
    "    print(f'RF Model (Out of Sample) - MAE: {RF_model_outsample_mae}')"
   ]
  },
  {
   "cell_type": "code",
   "execution_count": null,
   "id": "4472024e",
   "metadata": {},
   "outputs": [],
   "source": [
    "from sklearn.model_selection import GridSearchCV\n",
    "from sklearn.model_selection import ParameterGrid"
   ]
  },
  {
   "cell_type": "markdown",
   "id": "90d68804",
   "metadata": {},
   "source": [
    "#### Hyp. Optimization with Performance Gap"
   ]
  },
  {
   "cell_type": "code",
   "execution_count": null,
   "id": "ec37f442",
   "metadata": {
    "scrolled": true
   },
   "outputs": [],
   "source": [
    "param_grid = {'n_estimators': [2, 50, 100, 150, 200, 250], \n",
    "              'max_depth': [5, 10, 15, 20], \n",
    "              'min_samples_split': [2, 4, 6, 8, 10], \n",
    "              'min_samples_leaf': [1, 2, 3, 4, 5], \n",
    "              'max_features': [1, 3, 5, 10]}\n",
    "\n",
    "best_mae = float('inf')\n",
    "best_params = None\n",
    "results = []\n",
    "\n",
    "for params in ParameterGrid(param_grid):\n",
    "    RF_GS_model = RandomForestRegressor(**params, random_state=42)\n",
    "    RF_GS_model.fit(X_RF_train_red, Y_RF_train)\n",
    "    \n",
    "    RF_GS_insample = RF_GS_model.predict(X_RF_train_red)\n",
    "    RF_GS_outsample = RF_GS_model.predict(X_RF_test_red)\n",
    "    \n",
    "    ins_mae = mean_absolute_error(Y_RF_train, RF_GS_insample)\n",
    "    outs_mae = mean_absolute_error(Y_RF_test, RF_GS_outsample)\n",
    "    \n",
    "    results.append({'params': params,\n",
    "                    'insample_mae': ins_mae,\n",
    "                    'outsample_mae': outs_mae})\n",
    "    \n",
    "    if outs_mae < best_mae:\n",
    "        best_mae = outs_mae\n",
    "        best_params = params\n",
    "        \n",
    "print(f\"Best parameters: {best_params}\")\n",
    "print(f\"Best out-of-sample MAE: {best_mae}\")"
   ]
  },
  {
   "cell_type": "markdown",
   "id": "0ba0c6bc",
   "metadata": {},
   "source": [
    "##### "
   ]
  },
  {
   "cell_type": "code",
   "execution_count": null,
   "id": "fd2963d1",
   "metadata": {},
   "outputs": [],
   "source": [
    "perform_RF(X_RF_train_red, X_RF_test_red, Y_RF_train, Y_RF_test, 50, 5, 8, 1, 5)"
   ]
  },
  {
   "cell_type": "code",
   "execution_count": null,
   "id": "aa03e6aa",
   "metadata": {},
   "outputs": [],
   "source": [
    "RF_gs = RandomForestRegressor(n_estimators=50, max_depth=5, min_samples_split=8, min_samples_leaf=1, max_features=5, random_state=42)\n",
    "RF_gs.fit(X_RF_train_red, Y_RF_train)"
   ]
  },
  {
   "cell_type": "code",
   "execution_count": null,
   "id": "b1dfaad9",
   "metadata": {},
   "outputs": [],
   "source": [
    "RF_gs_ins = RF_gs.predict(X_RF_train_red)\n",
    "RF_gs_outs = RF_gs.predict(X_RF_test_red)"
   ]
  },
  {
   "cell_type": "code",
   "execution_count": null,
   "id": "b1a3f257",
   "metadata": {},
   "outputs": [],
   "source": [
    "RF_gs_ins_df = pd.DataFrame({'Y_Actual': Y_RF_train,\n",
    "                              'Y_Predicted': RF_gs_ins,\n",
    "                              'Date': train_date})\n",
    "\n",
    "RF_gs_outs_df = pd.DataFrame({'Y_Actual': Y_RF_test,\n",
    "                               'Y_Predicted': RF_gs_outs,\n",
    "                               'Date': test_date})"
   ]
  },
  {
   "cell_type": "code",
   "execution_count": null,
   "id": "5444449a",
   "metadata": {},
   "outputs": [],
   "source": [
    "RF_gs_ins_df['Y_Predicted'] = round(RF_gs_ins_df['Y_Predicted']).astype(int)\n",
    "RF_gs_outs_df['Y_Predicted'] = round(RF_gs_outs_df['Y_Predicted']).astype(int)"
   ]
  },
  {
   "cell_type": "code",
   "execution_count": null,
   "id": "25384834",
   "metadata": {},
   "outputs": [],
   "source": [
    "RF_gs_ins_df.set_index(keys='Date', inplace=True)\n",
    "RF_gs_outs_df.set_index(keys='Date', inplace=True)"
   ]
  },
  {
   "cell_type": "code",
   "execution_count": null,
   "id": "b4eb6110",
   "metadata": {},
   "outputs": [],
   "source": [
    "RF_gs_ins_df"
   ]
  },
  {
   "cell_type": "code",
   "execution_count": null,
   "id": "d0f61869",
   "metadata": {},
   "outputs": [],
   "source": [
    "plt.figure(figsize=(10,4))\n",
    "plt.xticks(rotation=90)\n",
    "sns.lineplot(data=RF_gs_ins_df, marker='o')\n",
    "plt.title('In Sample Actual vs Predicted Residual Value using Random Forest')\n",
    "plt.show()"
   ]
  },
  {
   "cell_type": "code",
   "execution_count": null,
   "id": "7e692401",
   "metadata": {},
   "outputs": [],
   "source": [
    "RF_gs_outs_df"
   ]
  },
  {
   "cell_type": "code",
   "execution_count": null,
   "id": "9bcba5aa",
   "metadata": {},
   "outputs": [],
   "source": [
    "df_rf_gs = pd.concat([RF_gs_ins_df, RF_gs_outs_df])[['Y_Predicted']]\n",
    "df_rf_gs.rename(columns={'Y_Predicted':'RF Grid Search'}, inplace=True)\n",
    "df_rf_gs"
   ]
  },
  {
   "cell_type": "markdown",
   "id": "f82bfecc",
   "metadata": {},
   "source": [
    "##### "
   ]
  },
  {
   "cell_type": "code",
   "execution_count": null,
   "id": "1e18c690",
   "metadata": {},
   "outputs": [],
   "source": [
    "perform_RF(X_RF_train_red, X_RF_test_red, Y_RF_train, Y_RF_test, 65, 13, 8, 1, 2)"
   ]
  },
  {
   "cell_type": "code",
   "execution_count": null,
   "id": "8e8d0371",
   "metadata": {},
   "outputs": [],
   "source": [
    "RF_opt = RandomForestRegressor(n_estimators=65, max_depth=13, min_samples_split=8, min_samples_leaf=1, max_features=2, random_state=42)\n",
    "RF_opt.fit(X_RF_train_red, Y_RF_train)"
   ]
  },
  {
   "cell_type": "code",
   "execution_count": null,
   "id": "c7d795bd",
   "metadata": {},
   "outputs": [],
   "source": [
    "RF_opt_ins = RF_opt.predict(X_RF_train_red)\n",
    "RF_opt_outs = RF_opt.predict(X_RF_test_red)"
   ]
  },
  {
   "cell_type": "code",
   "execution_count": null,
   "id": "bfd145bc",
   "metadata": {},
   "outputs": [],
   "source": [
    "RF_opt_ins_df = pd.DataFrame({'Y_Actual': Y_RF_train,\n",
    "                              'Y_Predicted': RF_opt_ins,\n",
    "                              'Date': train_date})\n",
    "\n",
    "RF_opt_outs_df = pd.DataFrame({'Y_Actual': Y_RF_test,\n",
    "                               'Y_Predicted': RF_opt_outs,\n",
    "                               'Date': test_date})"
   ]
  },
  {
   "cell_type": "code",
   "execution_count": null,
   "id": "00c832c3",
   "metadata": {},
   "outputs": [],
   "source": [
    "RF_opt_ins_df['Y_Predicted'] = round(RF_opt_ins_df['Y_Predicted']).astype(int)\n",
    "RF_opt_outs_df['Y_Predicted'] = round(RF_opt_outs_df['Y_Predicted']).astype(int)"
   ]
  },
  {
   "cell_type": "code",
   "execution_count": null,
   "id": "9124fa7d",
   "metadata": {},
   "outputs": [],
   "source": [
    "RF_opt_ins_df.set_index(keys='Date', inplace=True)\n",
    "RF_opt_outs_df.set_index(keys='Date', inplace=True)"
   ]
  },
  {
   "cell_type": "code",
   "execution_count": null,
   "id": "fa1aa858",
   "metadata": {},
   "outputs": [],
   "source": [
    "RF_opt_ins_df"
   ]
  },
  {
   "cell_type": "code",
   "execution_count": null,
   "id": "2e4ed7ae",
   "metadata": {},
   "outputs": [],
   "source": [
    "plt.figure(figsize=(10,4))\n",
    "plt.xticks(rotation=90)\n",
    "sns.lineplot(data=RF_opt_ins_df, marker='o')\n",
    "plt.title('In Sample Actual vs Predicted Residual Value using Random Forest')\n",
    "plt.show()"
   ]
  },
  {
   "cell_type": "code",
   "execution_count": null,
   "id": "246b6d72",
   "metadata": {},
   "outputs": [],
   "source": [
    "RF_opt_outs_df"
   ]
  },
  {
   "cell_type": "code",
   "execution_count": null,
   "id": "1118b4c5",
   "metadata": {},
   "outputs": [],
   "source": [
    "df_rf_opt = pd.concat([RF_opt_ins_df, RF_opt_outs_df])[['Y_Predicted']]\n",
    "df_rf_opt.rename(columns={'Y_Predicted':'RF Optimal'}, inplace=True)\n",
    "df_rf_opt"
   ]
  },
  {
   "cell_type": "markdown",
   "id": "830dfe6f",
   "metadata": {},
   "source": [
    "##### "
   ]
  },
  {
   "cell_type": "code",
   "execution_count": null,
   "id": "d9ef62a9",
   "metadata": {},
   "outputs": [],
   "source": [
    "df_forecast_rf = pd.concat([df_rf_awal, df_rf_gs], axis=1)\n",
    "df_forecast_rf = pd.concat([df_forecast_rf, df_rf_opt], axis=1)\n",
    "df_forecast_rf"
   ]
  },
  {
   "cell_type": "code",
   "execution_count": null,
   "id": "54f9acba",
   "metadata": {},
   "outputs": [],
   "source": [
    "plt.figure(figsize=(10,5))\n",
    "plt.plot(df_forecast_rf['Aktual'], label='Data Aktual', marker='o')\n",
    "plt.plot(df_forecast_rf['RF Optimal'], label='Data Peramalan', marker='o', linestyle='--')\n",
    "\n",
    "plt.axvline(pd.Timestamp('2023-12-01'), linestyle='--', color='k', alpha=0.5)\n",
    "plt.title(\"Peramalan Residual dengan Opt. Random Forest\")\n",
    "plt.xlabel('Month')\n",
    "plt.ylabel(\"Residual\")\n",
    "plt.legend(loc='upper right')\n",
    "plt.tight_layout()\n",
    "plt.show()"
   ]
  },
  {
   "cell_type": "markdown",
   "id": "ca2fd855",
   "metadata": {},
   "source": [
    "##### Model terbaik:  \n",
    "RandomForestRegressor(n_estimators=65, max_depth=13, min_samples_split=8, min_samples_leaf=1, max_features=2)  \n",
    "MAE In-Sample = 2.333, Out-of-Sample = 2.0"
   ]
  },
  {
   "cell_type": "markdown",
   "id": "4bdec090",
   "metadata": {},
   "source": [
    "##### "
   ]
  },
  {
   "cell_type": "markdown",
   "id": "e4f8b343",
   "metadata": {},
   "source": [
    "# HW + RF"
   ]
  },
  {
   "cell_type": "code",
   "execution_count": null,
   "id": "220489cb",
   "metadata": {
    "scrolled": false
   },
   "outputs": [],
   "source": [
    "hw_insample_df"
   ]
  },
  {
   "cell_type": "code",
   "execution_count": null,
   "id": "79fd72fd",
   "metadata": {},
   "outputs": [],
   "source": [
    "hw_outs_exp_df"
   ]
  },
  {
   "cell_type": "markdown",
   "id": "8dee57c4",
   "metadata": {},
   "source": [
    "#### RF Model"
   ]
  },
  {
   "cell_type": "code",
   "execution_count": null,
   "id": "6958a9a6",
   "metadata": {},
   "outputs": [],
   "source": [
    "RF_model = RandomForestRegressor(n_estimators=65, max_depth=13, \n",
    "                                 min_samples_split=8, min_samples_leaf=1, \n",
    "                                 max_features=2, random_state=42)"
   ]
  },
  {
   "cell_type": "code",
   "execution_count": null,
   "id": "24aa371a",
   "metadata": {},
   "outputs": [],
   "source": [
    "RF_model.fit(X_RF_train_red, Y_RF_train)"
   ]
  },
  {
   "cell_type": "markdown",
   "id": "d901ac18",
   "metadata": {
    "collapsed": true
   },
   "source": [
    "##### tree_structure(RF_model, 0)"
   ]
  },
  {
   "cell_type": "markdown",
   "id": "ac17070e",
   "metadata": {},
   "source": [
    "##### tree_structure(RF_model, 1)"
   ]
  },
  {
   "cell_type": "markdown",
   "id": "931693ef",
   "metadata": {},
   "source": [
    "##### "
   ]
  },
  {
   "cell_type": "code",
   "execution_count": null,
   "id": "c3a973da",
   "metadata": {},
   "outputs": [],
   "source": [
    "RF_insample = RF_model.predict(X_RF_train_red)\n",
    "RF_outsample = RF_model.predict(X_RF_test_red)"
   ]
  },
  {
   "cell_type": "code",
   "execution_count": null,
   "id": "ae70026e",
   "metadata": {},
   "outputs": [],
   "source": [
    "RF_insample_df = pd.DataFrame({'Y_Predicted': RF_insample,\n",
    "                               'Date': train_date})\n",
    "\n",
    "RF_outsample_df = pd.DataFrame({'Y_Predicted': RF_outsample,\n",
    "                                'Date': test_date})"
   ]
  },
  {
   "cell_type": "code",
   "execution_count": null,
   "id": "6d4da152",
   "metadata": {},
   "outputs": [],
   "source": [
    "RF_insample_df['Y_Predicted'] = round(RF_insample_df['Y_Predicted']).astype(int)\n",
    "RF_outsample_df['Y_Predicted'] = round(RF_outsample_df['Y_Predicted']).astype(int)"
   ]
  },
  {
   "cell_type": "code",
   "execution_count": null,
   "id": "5c9a30f8",
   "metadata": {},
   "outputs": [],
   "source": [
    "RF_insample_df.set_index(keys='Date', inplace=True)\n",
    "RF_outsample_df.set_index(keys='Date', inplace=True)"
   ]
  },
  {
   "cell_type": "code",
   "execution_count": null,
   "id": "7a14d6ea",
   "metadata": {},
   "outputs": [],
   "source": [
    "RF_insample_df"
   ]
  },
  {
   "cell_type": "code",
   "execution_count": null,
   "id": "2f9bcba6",
   "metadata": {},
   "outputs": [],
   "source": [
    "RF_outsample_df"
   ]
  },
  {
   "cell_type": "code",
   "execution_count": null,
   "id": "8cd36723",
   "metadata": {},
   "outputs": [],
   "source": [
    "hw_insample_df['Y_Predicted']"
   ]
  },
  {
   "cell_type": "code",
   "execution_count": null,
   "id": "ec8ee681",
   "metadata": {},
   "outputs": [],
   "source": [
    "hw_rf_ins_df = hw_insample_df[['Y_Actual']]\n",
    "hw_rf_outs_df = hw_outs_exp_df[['Y_Actual']]"
   ]
  },
  {
   "cell_type": "code",
   "execution_count": null,
   "id": "c1053977",
   "metadata": {},
   "outputs": [],
   "source": [
    "hw_rf_ins_df['Y_Predicted'] = hw_insample_df['Y_Predicted'] \n",
    "                              + RF_insample_df['Y_Predicted']\n",
    "\n",
    "hw_rf_outs_df['Y_Predicted'] = hw_outs_exp_df['Y_Predicted'] \n",
    "                               + RF_outsample_df['Y_Predicted']"
   ]
  },
  {
   "cell_type": "code",
   "execution_count": null,
   "id": "bfe8c389",
   "metadata": {},
   "outputs": [],
   "source": [
    "hw_rf_ins_df"
   ]
  },
  {
   "cell_type": "code",
   "execution_count": null,
   "id": "4d47bb19",
   "metadata": {},
   "outputs": [],
   "source": [
    "plt.figure(figsize=(10,4))\n",
    "sns.lineplot(hw_rf_ins_df, marker='o', dashes=False)\n",
    "\n",
    "plt.title('Actual vs Predicted In Sample using Hybrid HW + RF Model',\n",
    "          fontweight='bold')\n",
    "plt.tight_layout()\n",
    "plt.show()"
   ]
  },
  {
   "cell_type": "code",
   "execution_count": null,
   "id": "87f809a8",
   "metadata": {},
   "outputs": [],
   "source": [
    "hw_rf_outs_df"
   ]
  },
  {
   "cell_type": "code",
   "execution_count": null,
   "id": "b5f16a59",
   "metadata": {},
   "outputs": [],
   "source": [
    "plt.figure(figsize=(10,4))\n",
    "sns.lineplot(hw_rf_outs_df, marker='o', dashes=False)\n",
    "\n",
    "plt.title('Actual vs Predicted Out of Sample using Hybrid HW + RF Model', \n",
    "          fontweight='bold')\n",
    "plt.tight_layout()\n",
    "plt.show()"
   ]
  },
  {
   "cell_type": "code",
   "execution_count": null,
   "id": "fa95b88d",
   "metadata": {},
   "outputs": [],
   "source": [
    "df_hybrid = pd.concat([hw_rf_ins_df, hw_rf_outs_df])\n",
    "df_hybrid.rename(columns={'Y_Actual':'Aktual',\n",
    "                          'Y_Predicted':'Model Hibrida'}, inplace=True)\n",
    "df_hybrid"
   ]
  },
  {
   "cell_type": "code",
   "execution_count": null,
   "id": "9f4b77c6",
   "metadata": {},
   "outputs": [],
   "source": [
    "plt.figure(figsize=(10,5))\n",
    "plt.plot(df_hybrid['Aktual'], label='Data Aktual', marker='.')\n",
    "plt.plot(df_hybrid['Model Hibrida'], label='Data Peramalan', marker='.')\n",
    "\n",
    "plt.axvline(pd.Timestamp('2023-12-01'), linestyle='--', color='k', alpha=0.5)\n",
    "plt.title(\"Peramalan Penjualan dengan Model Hibrida\")\n",
    "plt.xlabel('Month')\n",
    "plt.ylabel(\"Penjualan\")\n",
    "plt.legend(loc='upper right')\n",
    "plt.tight_layout()\n",
    "plt.show()"
   ]
  },
  {
   "cell_type": "markdown",
   "id": "afbcc4cd",
   "metadata": {},
   "source": [
    "# Hybrid Model Evaluation"
   ]
  },
  {
   "cell_type": "code",
   "execution_count": null,
   "id": "995107cc",
   "metadata": {},
   "outputs": [],
   "source": [
    "# In Sample\n",
    "hw_rf_insample_mae = mean_absolute_error(hw_rf_ins_df['Y_Actual'], hw_rf_ins_df['Y_Predicted'])\n",
    "\n",
    "hw_rf_insample_rmse = mean_squared_error(hw_rf_ins_df['Y_Actual'], hw_rf_ins_df['Y_Predicted'], squared=False)\n",
    "\n",
    "print(f'Hybrid Model 1 (In-Sample) - RMSE: {hw_rf_insample_rmse}, MAE: {hw_rf_insample_mae}')"
   ]
  },
  {
   "cell_type": "code",
   "execution_count": null,
   "id": "fcbe10b4",
   "metadata": {},
   "outputs": [],
   "source": [
    "# Out of Sample\n",
    "hw_rf_outsample_mae = mean_absolute_error(hw_rf_outs_df['Y_Actual'], hw_rf_outs_df['Y_Predicted'])\n",
    "\n",
    "hw_rf_outsample_rmse = mean_squared_error(hw_rf_outs_df['Y_Actual'], hw_rf_outs_df['Y_Predicted'], squared=False)\n",
    "\n",
    "print(f'Hybrid Model 1 (Out-of-Sample) - RMSE: {hw_rf_outsample_rmse}, MAE: {hw_rf_outsample_mae}')"
   ]
  },
  {
   "cell_type": "code",
   "execution_count": null,
   "id": "386a0183",
   "metadata": {},
   "outputs": [],
   "source": [
    "df_hybrid['Naive'] = df_hybrid['Aktual'].shift(1)"
   ]
  },
  {
   "cell_type": "code",
   "execution_count": null,
   "id": "af1e639e",
   "metadata": {},
   "outputs": [],
   "source": [
    "df_hybrid"
   ]
  },
  {
   "cell_type": "code",
   "execution_count": null,
   "id": "b086dbeb",
   "metadata": {},
   "outputs": [],
   "source": [
    "df_hybrid['Model Hibrida'].iloc[1:120]"
   ]
  },
  {
   "cell_type": "code",
   "execution_count": null,
   "id": "ce86e36e",
   "metadata": {},
   "outputs": [],
   "source": [
    "hyb_ins_mae = mean_absolute_error(df_hybrid['Aktual'].iloc[1:120], df_hybrid['Model Hibrida'].iloc[1:120])\n",
    "hyb_ins_rmse = mean_squared_error(df_hybrid['Aktual'].iloc[1:120], df_hybrid['Model Hibrida'].iloc[1:120], squared=False)\n",
    "\n",
    "hyb_outs_mae = mean_absolute_error(df_hybrid['Aktual'].iloc[120:], df_hybrid['Model Hibrida'].iloc[120:])\n",
    "hyb_outs_rmse = mean_squared_error(df_hybrid['Aktual'].iloc[120:], df_hybrid['Model Hibrida'].iloc[120:], squared=False)"
   ]
  },
  {
   "cell_type": "code",
   "execution_count": null,
   "id": "8a39d33f",
   "metadata": {},
   "outputs": [],
   "source": [
    "naive_ins_mae = mean_absolute_error(df_hybrid['Aktual'].iloc[1:120], df_hybrid['Naive'].iloc[1:120])\n",
    "naive_ins_rmse = mean_squared_error(df_hybrid['Aktual'].iloc[1:120], df_hybrid['Naive'].iloc[1:120], squared=False)\n",
    "\n",
    "naive_outs_mae = mean_absolute_error(df_hybrid['Aktual'].iloc[120:], df_hybrid['Naive'].iloc[120:])\n",
    "naive_outs_rmse = mean_squared_error(df_hybrid['Aktual'].iloc[120:], df_hybrid['Naive'].iloc[120:], squared=False)"
   ]
  },
  {
   "cell_type": "code",
   "execution_count": null,
   "id": "1c25236c",
   "metadata": {},
   "outputs": [],
   "source": [
    "print(f'Hybrid (In-Sample) - RMSE: {hyb_ins_rmse}, MAE: {hyb_ins_mae}')\n",
    "print(f'Hybrid (Out-of-Sample) - RMSE: {hyb_outs_rmse}, MAE: {hyb_outs_mae}\\n')\n",
    "\n",
    "print(f'Naive (In-Sample) - RMSE: {naive_ins_rmse}, MAE: {naive_ins_mae}')\n",
    "print(f'Naive (Out-of-Sample) - RMSE: {naive_outs_rmse}, MAE: {naive_outs_mae}')"
   ]
  },
  {
   "cell_type": "markdown",
   "id": "ca04e3a3",
   "metadata": {},
   "source": [
    "##### "
   ]
  },
  {
   "cell_type": "code",
   "execution_count": null,
   "id": "983e59a6",
   "metadata": {},
   "outputs": [],
   "source": [
    "X_RF_train_red.columns"
   ]
  },
  {
   "cell_type": "code",
   "execution_count": null,
   "id": "77333090",
   "metadata": {},
   "outputs": [],
   "source": [
    "X_RF_test_red"
   ]
  },
  {
   "cell_type": "markdown",
   "id": "65792e50",
   "metadata": {},
   "source": [
    "#### Best Models:\n",
    "HW = ExponentialSmoothing(hw_train, trend='mul', seasonal='mul', seasonal_periods=12)\n",
    "\n",
    "RF = RandomForestRegressor((n_estimators=69, max_depth=17, min_samples_split=8, min_samples_leaf=1, max_features=2)"
   ]
  },
  {
   "cell_type": "markdown",
   "id": "e9cb16ae",
   "metadata": {},
   "source": [
    "##### "
   ]
  },
  {
   "cell_type": "markdown",
   "id": "5008505b",
   "metadata": {},
   "source": [
    "# Forecasting"
   ]
  },
  {
   "cell_type": "markdown",
   "id": "24ca7f5c",
   "metadata": {},
   "source": [
    "### Data Preparation"
   ]
  },
  {
   "cell_type": "code",
   "execution_count": null,
   "id": "bacc1365",
   "metadata": {},
   "outputs": [],
   "source": [
    "X_2025 = pd.read_excel(\"D:\\Document\\AKADEMIK\\SMT 7\\SKRIPSI\\data\\data mlg.xlsx\", sheet_name='2025 Dataset (rev)')\n",
    "X_2025.drop(columns='Month', inplace=True)\n",
    "X_2025"
   ]
  },
  {
   "cell_type": "code",
   "execution_count": null,
   "id": "f8e927cf",
   "metadata": {},
   "outputs": [],
   "source": [
    "X_2025.info()"
   ]
  },
  {
   "cell_type": "code",
   "execution_count": null,
   "id": "ae08b0e7",
   "metadata": {},
   "outputs": [],
   "source": [
    "X_2025.rename(columns={\"Perusahaan Z'_lag1\" : \"'Perusahaan Z'_lag1\",\n",
    "                       \"Harga Produk X (+merek)'_lag1\" : \"'Harga Produk X (+merek)'_lag1\",\n",
    "                       \"Harga Produk X'_lag2\" : \"'Harga Produk X'_lag2\",\n",
    "                       \"Produk X'_lag1\" : \"'Produk X'_lag1\",\n",
    "                       \"Perusahaan Z malang'_lag3\" : \"'Perusahaan Z malang'_lag3\",\n",
    "                       \"Harga Produk X'_lag3\" : \"'Harga Produk X'_lag3\"}, inplace=True)\n",
    "X_2025"
   ]
  },
  {
   "cell_type": "markdown",
   "id": "3a12f952",
   "metadata": {},
   "source": [
    "##### "
   ]
  },
  {
   "cell_type": "markdown",
   "id": "c6201816",
   "metadata": {},
   "source": [
    "# Forecasting (Mar 2025 - Des 2025)"
   ]
  },
  {
   "cell_type": "markdown",
   "id": "98279ecc",
   "metadata": {},
   "source": [
    "#### Models:\n",
    "HW = ExponentialSmoothing(hw_train, trend='mul', seasonal='mul', seasonal_periods=12)\n",
    "\n",
    "RF = RandomForestRegressor(n_estimators=69, max_depth=17, min_samples_split=8, min_samples_leaf=1, max_features=2)"
   ]
  },
  {
   "cell_type": "code",
   "execution_count": null,
   "id": "cae805e4",
   "metadata": {},
   "outputs": [],
   "source": [
    "forecast_train = pd.concat([hw_train, hw_test], ignore_index=True)\n",
    "forecast_train"
   ]
  },
  {
   "cell_type": "markdown",
   "id": "2267c4f1",
   "metadata": {},
   "source": [
    "## HW Re-Train"
   ]
  },
  {
   "cell_type": "code",
   "execution_count": null,
   "id": "e704b75e",
   "metadata": {},
   "outputs": [],
   "source": [
    "HW_final = ExponentialSmoothing(forecast_train, trend='mul', seasonal='mul', seasonal_periods=12).fit()"
   ]
  },
  {
   "cell_type": "code",
   "execution_count": null,
   "id": "e1099f57",
   "metadata": {},
   "outputs": [],
   "source": [
    "print(\"Smoothing Parameters\")\n",
    "print(\"Alpha (level):\", HW_final.params['smoothing_level'])\n",
    "print(\"Beta (trend):\", HW_final.params.get('smoothing_trend'))\n",
    "print(\"Gamma (seasonal):\", HW_final.params.get('smoothing_seasonal'))\n",
    "\n",
    "print(\"\\nInitial State\")\n",
    "print(\"Initial level:\", HW_final.params['initial_level'])\n",
    "print(\"Initial trend:\", HW_final.params.get('initial_trend'))\n",
    "print(\"Initial seasonal:\", HW_final.params.get('initial_seasonal'))"
   ]
  },
  {
   "cell_type": "code",
   "execution_count": null,
   "id": "185eb096",
   "metadata": {},
   "outputs": [],
   "source": [
    "HW_final_insample = HW_final.predict(start=0, end=len(forecast_train)-1)\n",
    "HW_final_insample"
   ]
  },
  {
   "cell_type": "code",
   "execution_count": null,
   "id": "ef825cec",
   "metadata": {},
   "outputs": [],
   "source": [
    "HW_final_insample_df = pd.DataFrame({'Y_Actual' : forecast_train,\n",
    "                                     'Y_Predicted' : round(HW_final_insample).astype(int),\n",
    "                                     'Date' : pd.concat([train_date, test_date], ignore_index=True)\n",
    "                                    })\n",
    "HW_final_insample_df.set_index(keys='Date', inplace=True)\n",
    "HW_final_insample_df['Residual'] = HW_final_insample_df['Y_Actual'] - HW_final_insample_df['Y_Predicted']\n",
    "HW_final_insample_df"
   ]
  },
  {
   "cell_type": "markdown",
   "id": "89e21318",
   "metadata": {},
   "source": [
    "## RF Re-Train"
   ]
  },
  {
   "cell_type": "code",
   "execution_count": null,
   "id": "29ffcc08",
   "metadata": {},
   "outputs": [],
   "source": [
    "X_RF = pd.concat([X_RF_train_red, X_RF_test_red], ignore_index=True)\n",
    "X_RF"
   ]
  },
  {
   "cell_type": "code",
   "execution_count": null,
   "id": "8d8dc309",
   "metadata": {},
   "outputs": [],
   "source": [
    "Y_RF = HW_final_insample_df['Residual']\n",
    "Y_RF"
   ]
  },
  {
   "cell_type": "code",
   "execution_count": null,
   "id": "7fc1cc27",
   "metadata": {},
   "outputs": [],
   "source": [
    "RF_final = RandomForestRegressor(n_estimators=65, max_depth=13, min_samples_split=8, \n",
    "                                 min_samples_leaf=1, max_features=2, random_state=42)"
   ]
  },
  {
   "cell_type": "code",
   "execution_count": null,
   "id": "7ca9d22a",
   "metadata": {},
   "outputs": [],
   "source": [
    "RF_final.fit(X_RF, Y_RF)"
   ]
  },
  {
   "cell_type": "markdown",
   "id": "44196f26",
   "metadata": {},
   "source": [
    "##### tree_structure(RF_final, 0)"
   ]
  },
  {
   "cell_type": "code",
   "execution_count": null,
   "id": "13a4fedd",
   "metadata": {},
   "outputs": [],
   "source": [
    "RF_final_ins = RF_final.predict(X_RF)"
   ]
  },
  {
   "cell_type": "code",
   "execution_count": null,
   "id": "915b34ad",
   "metadata": {},
   "outputs": [],
   "source": [
    "RF_final_ins_df = pd.DataFrame({'Y_Actual' : Y_RF.reset_index(drop=True),\n",
    "                                'Y_Predicted' : RF_final_ins,\n",
    "                                'Date' : pd.concat([train_date, test_date], ignore_index=True)\n",
    "                               })\n",
    "RF_final_ins_df.set_index(keys='Date', inplace=True)\n",
    "RF_final_ins_df['Y_Predicted'] = round(RF_final_ins_df['Y_Predicted']).astype(int)\n",
    "RF_final_ins_df"
   ]
  },
  {
   "cell_type": "markdown",
   "id": "e243f0e1",
   "metadata": {},
   "source": [
    "## HW Forecast + RF Residual"
   ]
  },
  {
   "cell_type": "code",
   "execution_count": null,
   "id": "f85b4c4d",
   "metadata": {},
   "outputs": [],
   "source": [
    "HW_final_insample_df"
   ]
  },
  {
   "cell_type": "code",
   "execution_count": null,
   "id": "3c9dcb27",
   "metadata": {},
   "outputs": [],
   "source": [
    "RF_final_ins_df"
   ]
  },
  {
   "cell_type": "code",
   "execution_count": null,
   "id": "260bd8a1",
   "metadata": {},
   "outputs": [],
   "source": [
    "hw_rf_ins_df = HW_final_insample_df['Y_Predicted'] + RF_final_ins_df['Y_Predicted']\n",
    "hw_rf_ins_df"
   ]
  },
  {
   "cell_type": "markdown",
   "id": "2a9c4746",
   "metadata": {},
   "source": [
    "## HW Rolling Forecast"
   ]
  },
  {
   "cell_type": "code",
   "execution_count": null,
   "id": "dc1e0a80",
   "metadata": {},
   "outputs": [],
   "source": [
    "n_forecast = 10\n",
    "start_date = pd.to_datetime('2025-03-01')\n",
    "forecast_index = pd.date_range(start=start_date, periods=n_forecast, freq='MS')\n",
    "forecast_index"
   ]
  },
  {
   "cell_type": "code",
   "execution_count": null,
   "id": "d255725b",
   "metadata": {},
   "outputs": [],
   "source": [
    "n_forecast = 10\n",
    "history = list(forecast_train)\n",
    "predictions = []\n",
    "\n",
    "for t in range(n_forecast):\n",
    "    model = ExponentialSmoothing(history, trend='mul', seasonal='mul',\n",
    "                                 seasonal_periods=12)\n",
    "    model_fit = model.fit()\n",
    "\n",
    "    forecast = model_fit.forecast(steps=1)\n",
    "    predictions.append(forecast[0])\n",
    "    history.append(forecast[0])\n",
    "\n",
    "forecast_series = pd.Series(predictions, index=forecast_index)\n",
    "forecast_series"
   ]
  },
  {
   "cell_type": "code",
   "execution_count": null,
   "id": "006ecb1c",
   "metadata": {},
   "outputs": [],
   "source": [
    "round(forecast_series).astype(int)"
   ]
  },
  {
   "cell_type": "markdown",
   "id": "52fefe01",
   "metadata": {},
   "source": [
    "## Forecast"
   ]
  },
  {
   "cell_type": "markdown",
   "id": "b181548f",
   "metadata": {},
   "source": [
    "#### Mar 2025 - May 2025"
   ]
  },
  {
   "cell_type": "code",
   "execution_count": null,
   "id": "04f5c7d1",
   "metadata": {},
   "outputs": [],
   "source": [
    "X_2025"
   ]
  },
  {
   "cell_type": "code",
   "execution_count": null,
   "id": "fe8b4c0b",
   "metadata": {},
   "outputs": [],
   "source": [
    "X_RF_MarMay2025 = X_2025.iloc[2:5]"
   ]
  },
  {
   "cell_type": "code",
   "execution_count": null,
   "id": "6f574eae",
   "metadata": {},
   "outputs": [],
   "source": [
    "MarMay2025_res = RF_final.predict(X_RF_MarMay2025)\n",
    "MarMay2025_res = pd.Series(MarMay2025_res, index=forecast_index[0:3])\n",
    "MarMay2025_res"
   ]
  },
  {
   "cell_type": "code",
   "execution_count": null,
   "id": "27995b49",
   "metadata": {},
   "outputs": [],
   "source": [
    "final_forecast_MarMay2025 = forecast_series.loc['2025-03-01':'2025-05-01'] + MarMay2025_res\n",
    "final_forecast_MarMay2025"
   ]
  },
  {
   "cell_type": "code",
   "execution_count": null,
   "id": "bdde3781",
   "metadata": {
    "scrolled": false
   },
   "outputs": [],
   "source": [
    "# Row 10, 11, 12 in 'forecast' column\n",
    "X_2025.iloc[[5, 6, 7], X_2025.columns.get_loc('Penjualan Produk X_lag3')] = round(final_forecast_MarMay2025).astype(int).reset_index(drop=True)\n",
    "X_2025"
   ]
  },
  {
   "cell_type": "code",
   "execution_count": null,
   "id": "0a9175ee",
   "metadata": {},
   "outputs": [],
   "source": [
    "final_forecast_MarMay2025"
   ]
  },
  {
   "cell_type": "markdown",
   "id": "f6002cbe",
   "metadata": {},
   "source": [
    "#### Jun 2025 - Aug 2025"
   ]
  },
  {
   "cell_type": "code",
   "execution_count": null,
   "id": "e247ab32",
   "metadata": {},
   "outputs": [],
   "source": [
    "X_RF_JunAug2025 = X_2025.iloc[5:8]"
   ]
  },
  {
   "cell_type": "code",
   "execution_count": null,
   "id": "dcb9b5df",
   "metadata": {},
   "outputs": [],
   "source": [
    "JunAug2025_res = RF_final.predict(X_RF_JunAug2025)\n",
    "JunAug2025_res = pd.Series(JunAug2025_res, index=forecast_index[3:6])\n",
    "JunAug2025_res"
   ]
  },
  {
   "cell_type": "code",
   "execution_count": null,
   "id": "a37779eb",
   "metadata": {},
   "outputs": [],
   "source": [
    "final_forecast_JunAug2025 = forecast_series.loc['2025-06-01':'2025-08-01'] + JunAug2025_res\n",
    "final_forecast_JunAug2025"
   ]
  },
  {
   "cell_type": "code",
   "execution_count": null,
   "id": "f32a2341",
   "metadata": {},
   "outputs": [],
   "source": [
    "X_2025.iloc[[8, 9, 10], X_2025.columns.get_loc('Penjualan Produk X_lag3')] = round(final_forecast_JunAug2025).astype(int).reset_index(drop=True)\n",
    "X_2025"
   ]
  },
  {
   "cell_type": "code",
   "execution_count": null,
   "id": "771e8abc",
   "metadata": {},
   "outputs": [],
   "source": [
    "final_forecast_JunAug2025"
   ]
  },
  {
   "cell_type": "markdown",
   "id": "fea731d1",
   "metadata": {},
   "source": [
    "#### Sep 2025 - Nov 2025"
   ]
  },
  {
   "cell_type": "code",
   "execution_count": null,
   "id": "ef403b85",
   "metadata": {},
   "outputs": [],
   "source": [
    "X_RF_SepNov2025 = X_2025.iloc[8:11]"
   ]
  },
  {
   "cell_type": "code",
   "execution_count": null,
   "id": "22cc894f",
   "metadata": {},
   "outputs": [],
   "source": [
    "SepNov2025_res = RF_final.predict(X_RF_SepNov2025)\n",
    "SepNov2025_res = pd.Series(SepNov2025_res, index=forecast_index[6:9])\n",
    "SepNov2025_res"
   ]
  },
  {
   "cell_type": "code",
   "execution_count": null,
   "id": "512e475f",
   "metadata": {},
   "outputs": [],
   "source": [
    "final_forecast_SepNov2025 = forecast_series.loc['2025-09-01':'2025-11-01'] + SepNov2025_res\n",
    "final_forecast_SepNov2025"
   ]
  },
  {
   "cell_type": "code",
   "execution_count": null,
   "id": "dbb2d352",
   "metadata": {},
   "outputs": [],
   "source": [
    "round(final_forecast_SepNov2025).astype(int)[0]"
   ]
  },
  {
   "cell_type": "code",
   "execution_count": null,
   "id": "a32272f4",
   "metadata": {},
   "outputs": [],
   "source": [
    "X_2025.iloc[11, X_2025.columns.get_loc('Penjualan Produk X_lag3')] = round(final_forecast_SepNov2025).astype(int)[0]\n",
    "X_2025"
   ]
  },
  {
   "cell_type": "code",
   "execution_count": null,
   "id": "45d79c97",
   "metadata": {},
   "outputs": [],
   "source": [
    "final_forecast_SepNov2025"
   ]
  },
  {
   "cell_type": "markdown",
   "id": "9ad0e206",
   "metadata": {},
   "source": [
    "#### Dec 2025"
   ]
  },
  {
   "cell_type": "code",
   "execution_count": null,
   "id": "55a2b532",
   "metadata": {},
   "outputs": [],
   "source": [
    "X_RF_NovDec2025 = X_2025.iloc[10:12]"
   ]
  },
  {
   "cell_type": "code",
   "execution_count": null,
   "id": "8b3df63d",
   "metadata": {},
   "outputs": [],
   "source": [
    "X_RF_NovDec2025"
   ]
  },
  {
   "cell_type": "code",
   "execution_count": null,
   "id": "ca00ae8c",
   "metadata": {},
   "outputs": [],
   "source": [
    "NovDec2025_res = RF_final.predict(X_RF_NovDec2025)\n",
    "NovDec2025_res = pd.Series(NovDec2025_res, index=forecast_index[8:10])\n",
    "NovDec2025_res"
   ]
  },
  {
   "cell_type": "code",
   "execution_count": null,
   "id": "8b040677",
   "metadata": {},
   "outputs": [],
   "source": [
    "final_forecast_NovDec2025 = forecast_series.loc['2025-11-01':'2025-12-01'] + NovDec2025_res\n",
    "final_forecast_NovDec2025"
   ]
  },
  {
   "cell_type": "code",
   "execution_count": null,
   "id": "e9f2d060",
   "metadata": {},
   "outputs": [],
   "source": [
    "round(final_forecast_NovDec2025).astype(int)"
   ]
  },
  {
   "cell_type": "code",
   "execution_count": null,
   "id": "4c30be77",
   "metadata": {},
   "outputs": [],
   "source": [
    "final_forecast_NovDec2025"
   ]
  },
  {
   "cell_type": "code",
   "execution_count": null,
   "id": "9fbf58ad",
   "metadata": {},
   "outputs": [],
   "source": [
    "final_forecast = pd.concat([final_forecast_MarMay2025, final_forecast_JunAug2025])\n",
    "final_forecast = pd.concat([final_forecast, final_forecast_SepNov2025.iloc[0:2]])\n",
    "final_forecast = pd.concat([final_forecast, final_forecast_NovDec2025])\n",
    "final_forecast"
   ]
  },
  {
   "cell_type": "code",
   "execution_count": null,
   "id": "3d6c9841",
   "metadata": {},
   "outputs": [],
   "source": [
    "final_forecast = round(final_forecast).astype(int)"
   ]
  },
  {
   "cell_type": "code",
   "execution_count": null,
   "id": "06dadd13",
   "metadata": {},
   "outputs": [],
   "source": [
    "final_forecast"
   ]
  },
  {
   "cell_type": "code",
   "execution_count": null,
   "id": "e4b83d29",
   "metadata": {},
   "outputs": [],
   "source": [
    "plt.figure(figsize=(10,4))\n",
    "plt.plot(ertiga.set_index(keys='Month')['Ertiga'], marker='.', label='Data Aktual')\n",
    "plt.plot(final_forecast, marker='.', label='Data Peramalan')\n",
    "\n",
    "plt.legend()\n",
    "plt.title('Penjualan Produk X pada Tahun 2014 - 2025', fontweight='bold')\n",
    "plt.tight_layout()\n",
    "plt.show()"
   ]
  },
  {
   "cell_type": "code",
   "execution_count": null,
   "id": "7b4f0aaf",
   "metadata": {},
   "outputs": [],
   "source": [
    "plt.figure(figsize=(10,4))\n",
    "plt.plot(pd.concat([ertiga.set_index(keys='Month')['Ertiga'].loc['2024-01-01':], final_forecast]), marker='o', label='Data Aktual')\n",
    "plt.plot(final_forecast, marker='o', label='Data Peramalan (Hybrid)')\n",
    "\n",
    "plt.legend()\n",
    "plt.title('Penjualan Produk X pada Tahun 2024 - 2025', fontweight='bold')\n",
    "plt.tight_layout()\n",
    "plt.show()"
   ]
  }
 ],
 "metadata": {
  "kernelspec": {
   "display_name": "Python 3 (ipykernel)",
   "language": "python",
   "name": "python3"
  },
  "language_info": {
   "codemirror_mode": {
    "name": "ipython",
    "version": 3
   },
   "file_extension": ".py",
   "mimetype": "text/x-python",
   "name": "python",
   "nbconvert_exporter": "python",
   "pygments_lexer": "ipython3",
   "version": "3.9.7"
  }
 },
 "nbformat": 4,
 "nbformat_minor": 5
}
